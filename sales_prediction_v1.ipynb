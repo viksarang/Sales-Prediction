{
 "cells": [
  {
   "cell_type": "code",
   "execution_count": 1,
   "metadata": {},
   "outputs": [],
   "source": [
    "import pandas as pd\n",
    "import numpy as np"
   ]
  },
  {
   "cell_type": "code",
   "execution_count": null,
   "metadata": {},
   "outputs": [],
   "source": [
    "train = pd.read_csv('train.csv')\n",
    "train.info()"
   ]
  },
  {
   "cell_type": "code",
   "execution_count": 3,
   "metadata": {},
   "outputs": [
    {
     "data": {
      "text/html": [
       "<div>\n",
       "<style scoped>\n",
       "    .dataframe tbody tr th:only-of-type {\n",
       "        vertical-align: middle;\n",
       "    }\n",
       "\n",
       "    .dataframe tbody tr th {\n",
       "        vertical-align: top;\n",
       "    }\n",
       "\n",
       "    .dataframe thead th {\n",
       "        text-align: right;\n",
       "    }\n",
       "</style>\n",
       "<table border=\"1\" class=\"dataframe\">\n",
       "  <thead>\n",
       "    <tr style=\"text-align: right;\">\n",
       "      <th></th>\n",
       "      <th>Item_Identifier</th>\n",
       "      <th>Item_Weight</th>\n",
       "      <th>Item_Fat_Content</th>\n",
       "      <th>Item_Visibility</th>\n",
       "      <th>Item_Type</th>\n",
       "      <th>Item_MRP</th>\n",
       "      <th>Outlet_Identifier</th>\n",
       "      <th>Outlet_Establishment_Year</th>\n",
       "      <th>Outlet_Size</th>\n",
       "      <th>Outlet_Location_Type</th>\n",
       "      <th>Outlet_Type</th>\n",
       "      <th>Item_Outlet_Sales</th>\n",
       "    </tr>\n",
       "  </thead>\n",
       "  <tbody>\n",
       "    <tr>\n",
       "      <th>0</th>\n",
       "      <td>FDA15</td>\n",
       "      <td>9.30</td>\n",
       "      <td>Low Fat</td>\n",
       "      <td>0.016047</td>\n",
       "      <td>Dairy</td>\n",
       "      <td>249.8092</td>\n",
       "      <td>OUT049</td>\n",
       "      <td>1999</td>\n",
       "      <td>Medium</td>\n",
       "      <td>Tier 1</td>\n",
       "      <td>Supermarket Type1</td>\n",
       "      <td>3735.1380</td>\n",
       "    </tr>\n",
       "    <tr>\n",
       "      <th>1</th>\n",
       "      <td>DRC01</td>\n",
       "      <td>5.92</td>\n",
       "      <td>Regular</td>\n",
       "      <td>0.019278</td>\n",
       "      <td>Soft Drinks</td>\n",
       "      <td>48.2692</td>\n",
       "      <td>OUT018</td>\n",
       "      <td>2009</td>\n",
       "      <td>Medium</td>\n",
       "      <td>Tier 3</td>\n",
       "      <td>Supermarket Type2</td>\n",
       "      <td>443.4228</td>\n",
       "    </tr>\n",
       "    <tr>\n",
       "      <th>2</th>\n",
       "      <td>FDN15</td>\n",
       "      <td>17.50</td>\n",
       "      <td>Low Fat</td>\n",
       "      <td>0.016760</td>\n",
       "      <td>Meat</td>\n",
       "      <td>141.6180</td>\n",
       "      <td>OUT049</td>\n",
       "      <td>1999</td>\n",
       "      <td>Medium</td>\n",
       "      <td>Tier 1</td>\n",
       "      <td>Supermarket Type1</td>\n",
       "      <td>2097.2700</td>\n",
       "    </tr>\n",
       "    <tr>\n",
       "      <th>3</th>\n",
       "      <td>FDX07</td>\n",
       "      <td>19.20</td>\n",
       "      <td>Regular</td>\n",
       "      <td>0.000000</td>\n",
       "      <td>Fruits and Vegetables</td>\n",
       "      <td>182.0950</td>\n",
       "      <td>OUT010</td>\n",
       "      <td>1998</td>\n",
       "      <td>NaN</td>\n",
       "      <td>Tier 3</td>\n",
       "      <td>Grocery Store</td>\n",
       "      <td>732.3800</td>\n",
       "    </tr>\n",
       "    <tr>\n",
       "      <th>4</th>\n",
       "      <td>NCD19</td>\n",
       "      <td>8.93</td>\n",
       "      <td>Low Fat</td>\n",
       "      <td>0.000000</td>\n",
       "      <td>Household</td>\n",
       "      <td>53.8614</td>\n",
       "      <td>OUT013</td>\n",
       "      <td>1987</td>\n",
       "      <td>High</td>\n",
       "      <td>Tier 3</td>\n",
       "      <td>Supermarket Type1</td>\n",
       "      <td>994.7052</td>\n",
       "    </tr>\n",
       "  </tbody>\n",
       "</table>\n",
       "</div>"
      ],
      "text/plain": [
       "  Item_Identifier  Item_Weight Item_Fat_Content  Item_Visibility  \\\n",
       "0           FDA15         9.30          Low Fat         0.016047   \n",
       "1           DRC01         5.92          Regular         0.019278   \n",
       "2           FDN15        17.50          Low Fat         0.016760   \n",
       "3           FDX07        19.20          Regular         0.000000   \n",
       "4           NCD19         8.93          Low Fat         0.000000   \n",
       "\n",
       "               Item_Type  Item_MRP Outlet_Identifier  \\\n",
       "0                  Dairy  249.8092            OUT049   \n",
       "1            Soft Drinks   48.2692            OUT018   \n",
       "2                   Meat  141.6180            OUT049   \n",
       "3  Fruits and Vegetables  182.0950            OUT010   \n",
       "4              Household   53.8614            OUT013   \n",
       "\n",
       "   Outlet_Establishment_Year Outlet_Size Outlet_Location_Type  \\\n",
       "0                       1999      Medium               Tier 1   \n",
       "1                       2009      Medium               Tier 3   \n",
       "2                       1999      Medium               Tier 1   \n",
       "3                       1998         NaN               Tier 3   \n",
       "4                       1987        High               Tier 3   \n",
       "\n",
       "         Outlet_Type  Item_Outlet_Sales  \n",
       "0  Supermarket Type1          3735.1380  \n",
       "1  Supermarket Type2           443.4228  \n",
       "2  Supermarket Type1          2097.2700  \n",
       "3      Grocery Store           732.3800  \n",
       "4  Supermarket Type1           994.7052  "
      ]
     },
     "execution_count": 3,
     "metadata": {},
     "output_type": "execute_result"
    }
   ],
   "source": [
    "train.head()"
   ]
  },
  {
   "cell_type": "code",
   "execution_count": 148,
   "metadata": {},
   "outputs": [
    {
     "data": {
      "text/plain": [
       "1985    1463\n",
       "1987     932\n",
       "1999     930\n",
       "1997     930\n",
       "2004     930\n",
       "2002     929\n",
       "2009     928\n",
       "2007     926\n",
       "1998     555\n",
       "Name: Outlet_Establishment_Year, dtype: int64"
      ]
     },
     "execution_count": 148,
     "metadata": {},
     "output_type": "execute_result"
    }
   ],
   "source": [
    "#train['Item_Outlet_Sales']/train['Item_MRP']\n",
    "#np.log(2)\n",
    "#np.exp(0.6931471805599453)\n",
    "#train['Outlet_Establishment_Year'].value_counts()"
   ]
  },
  {
   "cell_type": "code",
   "execution_count": 161,
   "metadata": {},
   "outputs": [
    {
     "data": {
      "text/plain": [
       "Item_Identifier                 0\n",
       "Item_Weight                  1463\n",
       "Item_Fat_Content                0\n",
       "Item_Visibility                 0\n",
       "Item_Type                       0\n",
       "Item_MRP                        0\n",
       "Outlet_Identifier               0\n",
       "Outlet_Establishment_Year       0\n",
       "Outlet_Size                  2410\n",
       "Outlet_Location_Type            0\n",
       "Outlet_Type                     0\n",
       "Item_Outlet_Sales               0\n",
       "dtype: int64"
      ]
     },
     "execution_count": 161,
     "metadata": {},
     "output_type": "execute_result"
    }
   ],
   "source": [
    "train.isnull().sum()"
   ]
  },
  {
   "cell_type": "code",
   "execution_count": 9,
   "metadata": {},
   "outputs": [
    {
     "data": {
      "text/plain": [
       "OUT027    935\n",
       "OUT013    932\n",
       "OUT046    930\n",
       "OUT035    930\n",
       "OUT049    930\n",
       "OUT045    929\n",
       "OUT018    928\n",
       "OUT017    926\n",
       "OUT010    555\n",
       "OUT019    528\n",
       "Name: Outlet_Identifier, dtype: int64"
      ]
     },
     "execution_count": 9,
     "metadata": {},
     "output_type": "execute_result"
    }
   ],
   "source": [
    "train['Outlet_Identifier'].value_counts()"
   ]
  },
  {
   "cell_type": "code",
   "execution_count": 11,
   "metadata": {},
   "outputs": [
    {
     "data": {
      "text/plain": [
       "Item_Identifier                0\n",
       "Item_Weight                  935\n",
       "Item_Fat_Content               0\n",
       "Item_Visibility                0\n",
       "Item_Type                      0\n",
       "Item_MRP                       0\n",
       "Outlet_Identifier              0\n",
       "Outlet_Establishment_Year      0\n",
       "Outlet_Size                    0\n",
       "Outlet_Location_Type           0\n",
       "Outlet_Type                    0\n",
       "Item_Outlet_Sales              0\n",
       "dtype: int64"
      ]
     },
     "execution_count": 11,
     "metadata": {},
     "output_type": "execute_result"
    }
   ],
   "source": [
    "train[train['Outlet_Identifier'] == 'OUT027'].isnull().sum()"
   ]
  },
  {
   "cell_type": "code",
   "execution_count": 13,
   "metadata": {},
   "outputs": [
    {
     "data": {
      "text/plain": [
       "(935, 12)"
      ]
     },
     "execution_count": 13,
     "metadata": {},
     "output_type": "execute_result"
    }
   ],
   "source": [
    "train[train['Outlet_Identifier'] == 'OUT027'].shape"
   ]
  },
  {
   "cell_type": "code",
   "execution_count": 18,
   "metadata": {},
   "outputs": [
    {
     "data": {
      "text/plain": [
       "Item_Identifier                0\n",
       "Item_Weight                    0\n",
       "Item_Fat_Content               0\n",
       "Item_Visibility                0\n",
       "Item_Type                      0\n",
       "Item_MRP                       0\n",
       "Outlet_Identifier              0\n",
       "Outlet_Establishment_Year      0\n",
       "Outlet_Size                  929\n",
       "Outlet_Location_Type           0\n",
       "Outlet_Type                    0\n",
       "Item_Outlet_Sales              0\n",
       "dtype: int64"
      ]
     },
     "execution_count": 18,
     "metadata": {},
     "output_type": "execute_result"
    }
   ],
   "source": [
    "train[train['Outlet_Identifier'] == 'OUT045'].isnull().sum()"
   ]
  },
  {
   "cell_type": "code",
   "execution_count": 19,
   "metadata": {},
   "outputs": [
    {
     "data": {
      "text/plain": [
       "(929, 12)"
      ]
     },
     "execution_count": 19,
     "metadata": {},
     "output_type": "execute_result"
    }
   ],
   "source": [
    "train[train['Outlet_Identifier'] == 'OUT045'].shape"
   ]
  },
  {
   "cell_type": "code",
   "execution_count": 22,
   "metadata": {},
   "outputs": [
    {
     "data": {
      "text/plain": [
       "Item_Identifier                0\n",
       "Item_Weight                    0\n",
       "Item_Fat_Content               0\n",
       "Item_Visibility                0\n",
       "Item_Type                      0\n",
       "Item_MRP                       0\n",
       "Outlet_Identifier              0\n",
       "Outlet_Establishment_Year      0\n",
       "Outlet_Size                  926\n",
       "Outlet_Location_Type           0\n",
       "Outlet_Type                    0\n",
       "Item_Outlet_Sales              0\n",
       "dtype: int64"
      ]
     },
     "execution_count": 22,
     "metadata": {},
     "output_type": "execute_result"
    }
   ],
   "source": [
    "train[train['Outlet_Identifier'] == 'OUT017'].isnull().sum()"
   ]
  },
  {
   "cell_type": "code",
   "execution_count": 23,
   "metadata": {},
   "outputs": [
    {
     "data": {
      "text/plain": [
       "(926, 12)"
      ]
     },
     "execution_count": 23,
     "metadata": {},
     "output_type": "execute_result"
    }
   ],
   "source": [
    "train[train['Outlet_Identifier'] == 'OUT017'].shape"
   ]
  },
  {
   "cell_type": "code",
   "execution_count": 24,
   "metadata": {},
   "outputs": [
    {
     "data": {
      "text/plain": [
       "Item_Identifier                0\n",
       "Item_Weight                    0\n",
       "Item_Fat_Content               0\n",
       "Item_Visibility                0\n",
       "Item_Type                      0\n",
       "Item_MRP                       0\n",
       "Outlet_Identifier              0\n",
       "Outlet_Establishment_Year      0\n",
       "Outlet_Size                  555\n",
       "Outlet_Location_Type           0\n",
       "Outlet_Type                    0\n",
       "Item_Outlet_Sales              0\n",
       "dtype: int64"
      ]
     },
     "execution_count": 24,
     "metadata": {},
     "output_type": "execute_result"
    }
   ],
   "source": [
    "train[train['Outlet_Identifier'] == 'OUT010'].isnull().sum()"
   ]
  },
  {
   "cell_type": "code",
   "execution_count": 25,
   "metadata": {},
   "outputs": [
    {
     "data": {
      "text/plain": [
       "(555, 12)"
      ]
     },
     "execution_count": 25,
     "metadata": {},
     "output_type": "execute_result"
    }
   ],
   "source": [
    "train[train['Outlet_Identifier'] == 'OUT010'].shape"
   ]
  },
  {
   "cell_type": "code",
   "execution_count": 26,
   "metadata": {},
   "outputs": [
    {
     "data": {
      "text/plain": [
       "Item_Identifier                0\n",
       "Item_Weight                  528\n",
       "Item_Fat_Content               0\n",
       "Item_Visibility                0\n",
       "Item_Type                      0\n",
       "Item_MRP                       0\n",
       "Outlet_Identifier              0\n",
       "Outlet_Establishment_Year      0\n",
       "Outlet_Size                    0\n",
       "Outlet_Location_Type           0\n",
       "Outlet_Type                    0\n",
       "Item_Outlet_Sales              0\n",
       "dtype: int64"
      ]
     },
     "execution_count": 26,
     "metadata": {},
     "output_type": "execute_result"
    }
   ],
   "source": [
    "train[train['Outlet_Identifier'] == 'OUT019'].isnull().sum()"
   ]
  },
  {
   "cell_type": "code",
   "execution_count": 27,
   "metadata": {},
   "outputs": [
    {
     "data": {
      "text/plain": [
       "(528, 12)"
      ]
     },
     "execution_count": 27,
     "metadata": {},
     "output_type": "execute_result"
    }
   ],
   "source": [
    "train[train['Outlet_Identifier'] == 'OUT019'].shape"
   ]
  },
  {
   "cell_type": "code",
   "execution_count": 28,
   "metadata": {},
   "outputs": [
    {
     "data": {
      "text/plain": [
       "Fruits and Vegetables    140\n",
       "Snack Foods              137\n",
       "Household                 99\n",
       "Frozen Foods              89\n",
       "Canned                    72\n",
       "Baking Goods              69\n",
       "Dairy                     67\n",
       "Health and Hygiene        60\n",
       "Meat                      56\n",
       "Soft Drinks               45\n",
       "Breads                    31\n",
       "Hard Drinks               23\n",
       "Others                    15\n",
       "Starchy Foods             14\n",
       "Breakfast                 11\n",
       "Seafood                    7\n",
       "Name: Item_Type, dtype: int64"
      ]
     },
     "execution_count": 28,
     "metadata": {},
     "output_type": "execute_result"
    }
   ],
   "source": [
    "# handling nan for item weight feature.\n",
    "train[train['Outlet_Identifier'] == 'OUT027']['Item_Type'].value_counts()"
   ]
  },
  {
   "cell_type": "code",
   "execution_count": 33,
   "metadata": {},
   "outputs": [
    {
     "name": "stdout",
     "output_type": "stream",
     "text": [
      "{'Hard Drinks', 'Fruits and Vegetables', 'Snack Foods', 'Frozen Foods', 'Health and Hygiene', 'Breads', 'Dairy', 'Household', 'Baking Goods', 'Others', 'Starchy Foods', 'Seafood', 'Breakfast', 'Canned', 'Soft Drinks', 'Meat'}\n"
     ]
    },
    {
     "data": {
      "text/plain": [
       "Fruits and Vegetables    1232\n",
       "Snack Foods              1200\n",
       "Household                 910\n",
       "Frozen Foods              856\n",
       "Dairy                     682\n",
       "Canned                    649\n",
       "Baking Goods              648\n",
       "Health and Hygiene        520\n",
       "Soft Drinks               445\n",
       "Meat                      425\n",
       "Breads                    251\n",
       "Hard Drinks               214\n",
       "Others                    169\n",
       "Starchy Foods             148\n",
       "Breakfast                 110\n",
       "Seafood                    64\n",
       "Name: Item_Type, dtype: int64"
      ]
     },
     "execution_count": 33,
     "metadata": {},
     "output_type": "execute_result"
    }
   ],
   "source": [
    "train['Item_Type'].value_counts()"
   ]
  },
  {
   "cell_type": "code",
   "execution_count": null,
   "metadata": {},
   "outputs": [],
   "source": []
  },
  {
   "cell_type": "code",
   "execution_count": null,
   "metadata": {},
   "outputs": [],
   "source": []
  },
  {
   "cell_type": "code",
   "execution_count": 2,
   "metadata": {
    "collapsed": true,
    "jupyter": {
     "outputs_hidden": true
    }
   },
   "outputs": [
    {
     "ename": "NameError",
     "evalue": "name 'train' is not defined",
     "output_type": "error",
     "traceback": [
      "\u001b[1;31m---------------------------------------------------------------------------\u001b[0m",
      "\u001b[1;31mNameError\u001b[0m                                 Traceback (most recent call last)",
      "\u001b[1;32m<ipython-input-2-78a8f01b78d4>\u001b[0m in \u001b[0;36m<module>\u001b[1;34m\u001b[0m\n\u001b[1;32m----> 1\u001b[1;33m \u001b[1;32mfor\u001b[0m \u001b[0mitem\u001b[0m \u001b[1;32min\u001b[0m \u001b[0mlist\u001b[0m\u001b[1;33m(\u001b[0m\u001b[0mset\u001b[0m\u001b[1;33m(\u001b[0m\u001b[0mtrain\u001b[0m\u001b[1;33m[\u001b[0m\u001b[1;34m'Item_Type'\u001b[0m\u001b[1;33m]\u001b[0m\u001b[1;33m)\u001b[0m\u001b[1;33m)\u001b[0m\u001b[1;33m:\u001b[0m\u001b[1;33m\u001b[0m\u001b[1;33m\u001b[0m\u001b[0m\n\u001b[0m\u001b[0;32m      2\u001b[0m     \u001b[0mtrain\u001b[0m\u001b[1;33m.\u001b[0m\u001b[0mloc\u001b[0m\u001b[1;33m[\u001b[0m\u001b[1;33m(\u001b[0m\u001b[0mtrain\u001b[0m\u001b[1;33m[\u001b[0m\u001b[1;34m'Item_Weight'\u001b[0m\u001b[1;33m]\u001b[0m\u001b[1;33m.\u001b[0m\u001b[0misnull\u001b[0m\u001b[1;33m(\u001b[0m\u001b[1;33m)\u001b[0m\u001b[1;33m)\u001b[0m \u001b[1;33m&\u001b[0m \u001b[1;33m(\u001b[0m\u001b[0mtrain\u001b[0m\u001b[1;33m[\u001b[0m\u001b[1;34m'Item_Type'\u001b[0m\u001b[1;33m]\u001b[0m \u001b[1;33m==\u001b[0m \u001b[0mitem\u001b[0m\u001b[1;33m)\u001b[0m\u001b[1;33m,\u001b[0m\u001b[1;34m'Item_Weight'\u001b[0m\u001b[1;33m]\u001b[0m \u001b[1;33m=\u001b[0m \u001b[0mtrain\u001b[0m\u001b[1;33m[\u001b[0m\u001b[0mtrain\u001b[0m\u001b[1;33m[\u001b[0m\u001b[1;34m'Item_Type'\u001b[0m\u001b[1;33m]\u001b[0m \u001b[1;33m==\u001b[0m \u001b[0mitem\u001b[0m\u001b[1;33m]\u001b[0m\u001b[1;33m[\u001b[0m\u001b[1;34m'Item_Weight'\u001b[0m\u001b[1;33m]\u001b[0m\u001b[1;33m.\u001b[0m\u001b[0mmean\u001b[0m\u001b[1;33m(\u001b[0m\u001b[1;33m)\u001b[0m\u001b[1;33m\u001b[0m\u001b[1;33m\u001b[0m\u001b[0m\n\u001b[0;32m      3\u001b[0m     \u001b[1;31m#print(train[train['Item_Type'] == item]['Item_Weight'].mean())\u001b[0m\u001b[1;33m\u001b[0m\u001b[1;33m\u001b[0m\u001b[1;33m\u001b[0m\u001b[0m\n",
      "\u001b[1;31mNameError\u001b[0m: name 'train' is not defined"
     ]
    }
   ],
   "source": [
    "for item in list(set(train['Item_Type'])):\n",
    "    train.loc[(train['Item_Weight'].isnull()) & (train['Item_Type'] == item),'Item_Weight'] = train[train['Item_Type'] == item]['Item_Weight'].mean()\n",
    "    #print(train[train['Item_Type'] == item]['Item_Weight'].mean())"
   ]
  },
  {
   "cell_type": "code",
   "execution_count": 163,
   "metadata": {},
   "outputs": [
    {
     "data": {
      "text/plain": [
       "Item_Identifier                 0\n",
       "Item_Weight                     0\n",
       "Item_Fat_Content                0\n",
       "Item_Visibility                 0\n",
       "Item_Type                       0\n",
       "Item_MRP                        0\n",
       "Outlet_Identifier               0\n",
       "Outlet_Establishment_Year       0\n",
       "Outlet_Size                  2410\n",
       "Outlet_Location_Type            0\n",
       "Outlet_Type                     0\n",
       "Item_Outlet_Sales               0\n",
       "dtype: int64"
      ]
     },
     "execution_count": 163,
     "metadata": {},
     "output_type": "execute_result"
    }
   ],
   "source": [
    "train.isnull().sum()"
   ]
  },
  {
   "cell_type": "code",
   "execution_count": 86,
   "metadata": {},
   "outputs": [],
   "source": [
    "# handle nan in Outlet_Size"
   ]
  },
  {
   "cell_type": "code",
   "execution_count": 119,
   "metadata": {},
   "outputs": [
    {
     "data": {
      "text/plain": [
       "0"
      ]
     },
     "execution_count": 119,
     "metadata": {},
     "output_type": "execute_result"
    }
   ],
   "source": [
    "train[(train['Outlet_Location_Type'] == 'Tier 2') & (train['Outlet_Type'] == 'Grocery Store')].Outlet_Size.isnull().sum()"
   ]
  },
  {
   "cell_type": "code",
   "execution_count": 121,
   "metadata": {},
   "outputs": [
    {
     "data": {
      "text/plain": [
       "Supermarket Type1    2785\n",
       "Name: Outlet_Type, dtype: int64"
      ]
     },
     "execution_count": 121,
     "metadata": {},
     "output_type": "execute_result"
    }
   ],
   "source": [
    "train[(train['Outlet_Location_Type'] == 'Tier 2')].Outlet_Type.value_counts()"
   ]
  },
  {
   "cell_type": "code",
   "execution_count": 120,
   "metadata": {},
   "outputs": [
    {
     "data": {
      "text/plain": [
       "Series([], Name: Outlet_Size, dtype: int64)"
      ]
     },
     "execution_count": 120,
     "metadata": {},
     "output_type": "execute_result"
    }
   ],
   "source": [
    "train[(train['Outlet_Location_Type'] == 'Tier 2') & (train['Outlet_Type'] == 'Grocery Store')].Outlet_Size.value_counts()"
   ]
  },
  {
   "cell_type": "code",
   "execution_count": 90,
   "metadata": {},
   "outputs": [
    {
     "data": {
      "text/plain": [
       "(2785, 12)"
      ]
     },
     "execution_count": 90,
     "metadata": {},
     "output_type": "execute_result"
    }
   ],
   "source": [
    "train[(train['Outlet_Location_Type'] == 'Tier 2') & (train['Outlet_Type'] == 'Supermarket Type1')].shape"
   ]
  },
  {
   "cell_type": "code",
   "execution_count": 108,
   "metadata": {},
   "outputs": [
    {
     "data": {
      "text/plain": [
       "555"
      ]
     },
     "execution_count": 108,
     "metadata": {},
     "output_type": "execute_result"
    }
   ],
   "source": [
    "train[(train['Outlet_Location_Type'] == 'Tier 3') & (train['Outlet_Type'] == 'Grocery Store')].Outlet_Size.isnull().sum()"
   ]
  },
  {
   "cell_type": "code",
   "execution_count": 110,
   "metadata": {},
   "outputs": [
    {
     "data": {
      "text/plain": [
       "(555, 12)"
      ]
     },
     "execution_count": 110,
     "metadata": {},
     "output_type": "execute_result"
    }
   ],
   "source": [
    "train[(train['Outlet_Location_Type'] == 'Tier 3') & (train['Outlet_Type'] == 'Grocery Store')].shape"
   ]
  },
  {
   "cell_type": "code",
   "execution_count": 102,
   "metadata": {},
   "outputs": [
    {
     "name": "stdout",
     "output_type": "stream",
     "text": [
      "Small    930\n",
      "Name: Outlet_Size, dtype: int64\n",
      "Medium    1863\n",
      "High       932\n",
      "Name: Outlet_Size, dtype: int64\n"
     ]
    }
   ],
   "source": [
    "print(train[(train['Outlet_Location_Type'] == 'Tier 2')].Outlet_Size.value_counts())\n",
    "print(train[(train['Outlet_Location_Type'] == 'Tier 3')].Outlet_Size.value_counts())"
   ]
  },
  {
   "cell_type": "code",
   "execution_count": 101,
   "metadata": {},
   "outputs": [
    {
     "name": "stdout",
     "output_type": "stream",
     "text": [
      "null values in Tier3: 555\n",
      "null values in Tier2: 1855\n"
     ]
    }
   ],
   "source": [
    "print(\"null values in Tier3: %s\"%train[(train['Outlet_Location_Type'] == 'Tier 3')].Outlet_Size.isnull().sum())\n",
    "print(\"null values in Tier2: %s\"%train[(train['Outlet_Location_Type'] == 'Tier 2')].Outlet_Size.isnull().sum())"
   ]
  },
  {
   "cell_type": "code",
   "execution_count": 106,
   "metadata": {},
   "outputs": [
    {
     "data": {
      "text/plain": [
       "Supermarket Type1    5577\n",
       "Grocery Store        1083\n",
       "Supermarket Type3     935\n",
       "Supermarket Type2     928\n",
       "Name: Outlet_Type, dtype: int64"
      ]
     },
     "execution_count": 106,
     "metadata": {},
     "output_type": "execute_result"
    }
   ],
   "source": [
    "train['Outlet_Type'].value_counts()"
   ]
  },
  {
   "cell_type": "code",
   "execution_count": 122,
   "metadata": {},
   "outputs": [
    {
     "data": {
      "text/plain": [
       "Small    528\n",
       "Name: Outlet_Size, dtype: int64"
      ]
     },
     "execution_count": 122,
     "metadata": {},
     "output_type": "execute_result"
    }
   ],
   "source": [
    "train[train['Outlet_Type']=='Grocery Store'].Outlet_Size.value_counts()"
   ]
  },
  {
   "cell_type": "code",
   "execution_count": 123,
   "metadata": {},
   "outputs": [
    {
     "data": {
      "text/plain": [
       "Small     1860\n",
       "High       932\n",
       "Medium     930\n",
       "Name: Outlet_Size, dtype: int64"
      ]
     },
     "execution_count": 123,
     "metadata": {},
     "output_type": "execute_result"
    }
   ],
   "source": [
    "train[train['Outlet_Type']=='Supermarket Type1'].Outlet_Size.value_counts()"
   ]
  },
  {
   "cell_type": "code",
   "execution_count": 243,
   "metadata": {},
   "outputs": [],
   "source": [
    "train['Outlet_Size'] = train['Outlet_Size'].fillna('Small')"
   ]
  },
  {
   "cell_type": "code",
   "execution_count": 223,
   "metadata": {},
   "outputs": [
    {
     "data": {
      "text/plain": [
       "Item_Identifier              0\n",
       "Item_Weight                  0\n",
       "Item_Fat_Content             0\n",
       "Item_Visibility              0\n",
       "Item_Type                    0\n",
       "Item_MRP                     0\n",
       "Outlet_Identifier            0\n",
       "Outlet_Establishment_Year    0\n",
       "Outlet_Size                  0\n",
       "Outlet_Location_Type         0\n",
       "Outlet_Type                  0\n",
       "Item_Outlet_Sales            0\n",
       "dtype: int64"
      ]
     },
     "execution_count": 223,
     "metadata": {},
     "output_type": "execute_result"
    }
   ],
   "source": [
    "train.isnull().sum()"
   ]
  },
  {
   "cell_type": "code",
   "execution_count": 166,
   "metadata": {},
   "outputs": [
    {
     "name": "stdout",
     "output_type": "stream",
     "text": [
      "['Item_Weight', 'Item_Visibility', 'Item_MRP', 'Outlet_Establishment_Year', 'Item_Outlet_Sales']\n",
      "['Item_Type', 'Item_Fat_Content', 'Outlet_Size', 'Outlet_Identifier', 'Outlet_Location_Type', 'Item_Identifier', 'Outlet_Type']\n"
     ]
    }
   ],
   "source": [
    "all_column = list(train.columns)\n",
    "numeric_col = list(train._get_numeric_data().columns )\n",
    "categorical_columns =  list(set(all_column) - set(numeric_col))\n",
    "print(numeric_col)\n",
    "print(categorical_columns)"
   ]
  },
  {
   "cell_type": "code",
   "execution_count": null,
   "metadata": {},
   "outputs": [],
   "source": []
  },
  {
   "cell_type": "code",
   "execution_count": 224,
   "metadata": {},
   "outputs": [
    {
     "data": {
      "text/plain": [
       "Low Fat    5089\n",
       "Regular    2889\n",
       "LF          316\n",
       "reg         117\n",
       "low fat     112\n",
       "Name: Item_Fat_Content, dtype: int64"
      ]
     },
     "execution_count": 224,
     "metadata": {},
     "output_type": "execute_result"
    }
   ],
   "source": [
    "# handling misleading information\n",
    "train['Item_Fat_Content'].value_counts()"
   ]
  },
  {
   "cell_type": "code",
   "execution_count": 244,
   "metadata": {},
   "outputs": [],
   "source": [
    "train['Item_Fat_Content'] = train['Item_Fat_Content'].replace({'Low Fat':'LF','LF':'LF','low fat':'LF','Regular':'Regular','reg':'Regular'})"
   ]
  },
  {
   "cell_type": "code",
   "execution_count": 245,
   "metadata": {},
   "outputs": [
    {
     "data": {
      "text/plain": [
       "LF         5517\n",
       "Regular    3006\n",
       "Name: Item_Fat_Content, dtype: int64"
      ]
     },
     "execution_count": 245,
     "metadata": {},
     "output_type": "execute_result"
    }
   ],
   "source": [
    "train['Item_Fat_Content'].value_counts()"
   ]
  },
  {
   "cell_type": "code",
   "execution_count": null,
   "metadata": {},
   "outputs": [],
   "source": [
    "# convert categorical data into numeric"
   ]
  },
  {
   "cell_type": "code",
   "execution_count": 247,
   "metadata": {},
   "outputs": [
    {
     "data": {
      "text/html": [
       "<div>\n",
       "<style scoped>\n",
       "    .dataframe tbody tr th:only-of-type {\n",
       "        vertical-align: middle;\n",
       "    }\n",
       "\n",
       "    .dataframe tbody tr th {\n",
       "        vertical-align: top;\n",
       "    }\n",
       "\n",
       "    .dataframe thead th {\n",
       "        text-align: right;\n",
       "    }\n",
       "</style>\n",
       "<table border=\"1\" class=\"dataframe\">\n",
       "  <thead>\n",
       "    <tr style=\"text-align: right;\">\n",
       "      <th></th>\n",
       "      <th>Item_Identifier</th>\n",
       "      <th>Item_Weight</th>\n",
       "      <th>Item_Fat_Content</th>\n",
       "      <th>Item_Visibility</th>\n",
       "      <th>Item_Type</th>\n",
       "      <th>Item_MRP</th>\n",
       "      <th>Outlet_Identifier</th>\n",
       "      <th>Outlet_Establishment_Year</th>\n",
       "      <th>Outlet_Size</th>\n",
       "      <th>Outlet_Location_Type</th>\n",
       "      <th>Outlet_Type</th>\n",
       "      <th>Item_Outlet_Sales</th>\n",
       "    </tr>\n",
       "  </thead>\n",
       "  <tbody>\n",
       "    <tr>\n",
       "      <th>0</th>\n",
       "      <td>FDA15</td>\n",
       "      <td>9.30</td>\n",
       "      <td>LF</td>\n",
       "      <td>0.016047</td>\n",
       "      <td>Dairy</td>\n",
       "      <td>249.8092</td>\n",
       "      <td>OUT049</td>\n",
       "      <td>1999</td>\n",
       "      <td>Medium</td>\n",
       "      <td>Tier 1</td>\n",
       "      <td>Supermarket Type1</td>\n",
       "      <td>3735.1380</td>\n",
       "    </tr>\n",
       "    <tr>\n",
       "      <th>1</th>\n",
       "      <td>DRC01</td>\n",
       "      <td>5.92</td>\n",
       "      <td>Regular</td>\n",
       "      <td>0.019278</td>\n",
       "      <td>Soft Drinks</td>\n",
       "      <td>48.2692</td>\n",
       "      <td>OUT018</td>\n",
       "      <td>2009</td>\n",
       "      <td>Medium</td>\n",
       "      <td>Tier 3</td>\n",
       "      <td>Supermarket Type2</td>\n",
       "      <td>443.4228</td>\n",
       "    </tr>\n",
       "    <tr>\n",
       "      <th>2</th>\n",
       "      <td>FDN15</td>\n",
       "      <td>17.50</td>\n",
       "      <td>LF</td>\n",
       "      <td>0.016760</td>\n",
       "      <td>Meat</td>\n",
       "      <td>141.6180</td>\n",
       "      <td>OUT049</td>\n",
       "      <td>1999</td>\n",
       "      <td>Medium</td>\n",
       "      <td>Tier 1</td>\n",
       "      <td>Supermarket Type1</td>\n",
       "      <td>2097.2700</td>\n",
       "    </tr>\n",
       "    <tr>\n",
       "      <th>3</th>\n",
       "      <td>FDX07</td>\n",
       "      <td>19.20</td>\n",
       "      <td>Regular</td>\n",
       "      <td>0.000000</td>\n",
       "      <td>Fruits and Vegetables</td>\n",
       "      <td>182.0950</td>\n",
       "      <td>OUT010</td>\n",
       "      <td>1998</td>\n",
       "      <td>Small</td>\n",
       "      <td>Tier 3</td>\n",
       "      <td>Grocery Store</td>\n",
       "      <td>732.3800</td>\n",
       "    </tr>\n",
       "    <tr>\n",
       "      <th>4</th>\n",
       "      <td>NCD19</td>\n",
       "      <td>8.93</td>\n",
       "      <td>LF</td>\n",
       "      <td>0.000000</td>\n",
       "      <td>Household</td>\n",
       "      <td>53.8614</td>\n",
       "      <td>OUT013</td>\n",
       "      <td>1987</td>\n",
       "      <td>High</td>\n",
       "      <td>Tier 3</td>\n",
       "      <td>Supermarket Type1</td>\n",
       "      <td>994.7052</td>\n",
       "    </tr>\n",
       "  </tbody>\n",
       "</table>\n",
       "</div>"
      ],
      "text/plain": [
       "  Item_Identifier  Item_Weight Item_Fat_Content  Item_Visibility  \\\n",
       "0           FDA15         9.30               LF         0.016047   \n",
       "1           DRC01         5.92          Regular         0.019278   \n",
       "2           FDN15        17.50               LF         0.016760   \n",
       "3           FDX07        19.20          Regular         0.000000   \n",
       "4           NCD19         8.93               LF         0.000000   \n",
       "\n",
       "               Item_Type  Item_MRP Outlet_Identifier  \\\n",
       "0                  Dairy  249.8092            OUT049   \n",
       "1            Soft Drinks   48.2692            OUT018   \n",
       "2                   Meat  141.6180            OUT049   \n",
       "3  Fruits and Vegetables  182.0950            OUT010   \n",
       "4              Household   53.8614            OUT013   \n",
       "\n",
       "   Outlet_Establishment_Year Outlet_Size Outlet_Location_Type  \\\n",
       "0                       1999      Medium               Tier 1   \n",
       "1                       2009      Medium               Tier 3   \n",
       "2                       1999      Medium               Tier 1   \n",
       "3                       1998       Small               Tier 3   \n",
       "4                       1987        High               Tier 3   \n",
       "\n",
       "         Outlet_Type  Item_Outlet_Sales  \n",
       "0  Supermarket Type1          3735.1380  \n",
       "1  Supermarket Type2           443.4228  \n",
       "2  Supermarket Type1          2097.2700  \n",
       "3      Grocery Store           732.3800  \n",
       "4  Supermarket Type1           994.7052  "
      ]
     },
     "execution_count": 247,
     "metadata": {},
     "output_type": "execute_result"
    }
   ],
   "source": [
    "train.head()"
   ]
  },
  {
   "cell_type": "code",
   "execution_count": 181,
   "metadata": {},
   "outputs": [],
   "source": [
    "from sklearn.preprocessing import OneHotEncoder\n",
    "enc = OneHotEncoder(handle_unknown='ignore')"
   ]
  },
  {
   "cell_type": "code",
   "execution_count": 248,
   "metadata": {},
   "outputs": [],
   "source": [
    "# item_Fat_Content\n",
    "res = enc.fit_transform(train[['Item_Fat_Content']]).toarray()"
   ]
  },
  {
   "cell_type": "code",
   "execution_count": 249,
   "metadata": {},
   "outputs": [
    {
     "data": {
      "text/plain": [
       "array(['x0_LF', 'x0_Regular'], dtype=object)"
      ]
     },
     "execution_count": 249,
     "metadata": {},
     "output_type": "execute_result"
    }
   ],
   "source": [
    "enc.get_feature_names()"
   ]
  },
  {
   "cell_type": "code",
   "execution_count": 250,
   "metadata": {},
   "outputs": [],
   "source": [
    "new_train = pd.concat([train.drop('Item_Fat_Content',axis =1),pd.DataFrame(res,columns = enc.get_feature_names())],axis=1)"
   ]
  },
  {
   "cell_type": "code",
   "execution_count": 251,
   "metadata": {},
   "outputs": [
    {
     "data": {
      "text/html": [
       "<div>\n",
       "<style scoped>\n",
       "    .dataframe tbody tr th:only-of-type {\n",
       "        vertical-align: middle;\n",
       "    }\n",
       "\n",
       "    .dataframe tbody tr th {\n",
       "        vertical-align: top;\n",
       "    }\n",
       "\n",
       "    .dataframe thead th {\n",
       "        text-align: right;\n",
       "    }\n",
       "</style>\n",
       "<table border=\"1\" class=\"dataframe\">\n",
       "  <thead>\n",
       "    <tr style=\"text-align: right;\">\n",
       "      <th></th>\n",
       "      <th>Item_Identifier</th>\n",
       "      <th>Item_Weight</th>\n",
       "      <th>Item_Fat_Content</th>\n",
       "      <th>Item_Visibility</th>\n",
       "      <th>Item_Type</th>\n",
       "      <th>Item_MRP</th>\n",
       "      <th>Outlet_Identifier</th>\n",
       "      <th>Outlet_Establishment_Year</th>\n",
       "      <th>Outlet_Size</th>\n",
       "      <th>Outlet_Location_Type</th>\n",
       "      <th>Outlet_Type</th>\n",
       "      <th>Item_Outlet_Sales</th>\n",
       "    </tr>\n",
       "  </thead>\n",
       "  <tbody>\n",
       "    <tr>\n",
       "      <th>0</th>\n",
       "      <td>FDA15</td>\n",
       "      <td>9.30</td>\n",
       "      <td>LF</td>\n",
       "      <td>0.016047</td>\n",
       "      <td>Dairy</td>\n",
       "      <td>249.8092</td>\n",
       "      <td>OUT049</td>\n",
       "      <td>1999</td>\n",
       "      <td>Medium</td>\n",
       "      <td>Tier 1</td>\n",
       "      <td>Supermarket Type1</td>\n",
       "      <td>3735.1380</td>\n",
       "    </tr>\n",
       "    <tr>\n",
       "      <th>1</th>\n",
       "      <td>DRC01</td>\n",
       "      <td>5.92</td>\n",
       "      <td>Regular</td>\n",
       "      <td>0.019278</td>\n",
       "      <td>Soft Drinks</td>\n",
       "      <td>48.2692</td>\n",
       "      <td>OUT018</td>\n",
       "      <td>2009</td>\n",
       "      <td>Medium</td>\n",
       "      <td>Tier 3</td>\n",
       "      <td>Supermarket Type2</td>\n",
       "      <td>443.4228</td>\n",
       "    </tr>\n",
       "    <tr>\n",
       "      <th>2</th>\n",
       "      <td>FDN15</td>\n",
       "      <td>17.50</td>\n",
       "      <td>LF</td>\n",
       "      <td>0.016760</td>\n",
       "      <td>Meat</td>\n",
       "      <td>141.6180</td>\n",
       "      <td>OUT049</td>\n",
       "      <td>1999</td>\n",
       "      <td>Medium</td>\n",
       "      <td>Tier 1</td>\n",
       "      <td>Supermarket Type1</td>\n",
       "      <td>2097.2700</td>\n",
       "    </tr>\n",
       "    <tr>\n",
       "      <th>3</th>\n",
       "      <td>FDX07</td>\n",
       "      <td>19.20</td>\n",
       "      <td>Regular</td>\n",
       "      <td>0.000000</td>\n",
       "      <td>Fruits and Vegetables</td>\n",
       "      <td>182.0950</td>\n",
       "      <td>OUT010</td>\n",
       "      <td>1998</td>\n",
       "      <td>Small</td>\n",
       "      <td>Tier 3</td>\n",
       "      <td>Grocery Store</td>\n",
       "      <td>732.3800</td>\n",
       "    </tr>\n",
       "    <tr>\n",
       "      <th>4</th>\n",
       "      <td>NCD19</td>\n",
       "      <td>8.93</td>\n",
       "      <td>LF</td>\n",
       "      <td>0.000000</td>\n",
       "      <td>Household</td>\n",
       "      <td>53.8614</td>\n",
       "      <td>OUT013</td>\n",
       "      <td>1987</td>\n",
       "      <td>High</td>\n",
       "      <td>Tier 3</td>\n",
       "      <td>Supermarket Type1</td>\n",
       "      <td>994.7052</td>\n",
       "    </tr>\n",
       "  </tbody>\n",
       "</table>\n",
       "</div>"
      ],
      "text/plain": [
       "  Item_Identifier  Item_Weight Item_Fat_Content  Item_Visibility  \\\n",
       "0           FDA15         9.30               LF         0.016047   \n",
       "1           DRC01         5.92          Regular         0.019278   \n",
       "2           FDN15        17.50               LF         0.016760   \n",
       "3           FDX07        19.20          Regular         0.000000   \n",
       "4           NCD19         8.93               LF         0.000000   \n",
       "\n",
       "               Item_Type  Item_MRP Outlet_Identifier  \\\n",
       "0                  Dairy  249.8092            OUT049   \n",
       "1            Soft Drinks   48.2692            OUT018   \n",
       "2                   Meat  141.6180            OUT049   \n",
       "3  Fruits and Vegetables  182.0950            OUT010   \n",
       "4              Household   53.8614            OUT013   \n",
       "\n",
       "   Outlet_Establishment_Year Outlet_Size Outlet_Location_Type  \\\n",
       "0                       1999      Medium               Tier 1   \n",
       "1                       2009      Medium               Tier 3   \n",
       "2                       1999      Medium               Tier 1   \n",
       "3                       1998       Small               Tier 3   \n",
       "4                       1987        High               Tier 3   \n",
       "\n",
       "         Outlet_Type  Item_Outlet_Sales  \n",
       "0  Supermarket Type1          3735.1380  \n",
       "1  Supermarket Type2           443.4228  \n",
       "2  Supermarket Type1          2097.2700  \n",
       "3      Grocery Store           732.3800  \n",
       "4  Supermarket Type1           994.7052  "
      ]
     },
     "execution_count": 251,
     "metadata": {},
     "output_type": "execute_result"
    }
   ],
   "source": [
    "\n",
    "train.head()"
   ]
  },
  {
   "cell_type": "code",
   "execution_count": 252,
   "metadata": {},
   "outputs": [],
   "source": [
    "# Item_Type\n",
    "res = enc.fit_transform(new_train[['Item_Type']]).toarray()\n",
    "new_train = pd.concat([new_train.drop('Item_Type',axis =1),pd.DataFrame(res,columns = enc.get_feature_names())],axis=1)"
   ]
  },
  {
   "cell_type": "code",
   "execution_count": 253,
   "metadata": {},
   "outputs": [],
   "source": [
    "# Outlet_Identifier\n",
    "res = enc.fit_transform(new_train[['Outlet_Identifier']]).toarray()\n",
    "new_train = pd.concat([new_train.drop('Outlet_Identifier',axis =1),pd.DataFrame(res,columns = enc.get_feature_names())],axis=1)"
   ]
  },
  {
   "cell_type": "code",
   "execution_count": 255,
   "metadata": {},
   "outputs": [
    {
     "data": {
      "text/plain": [
       "Small     4798\n",
       "Medium    2793\n",
       "High       932\n",
       "Name: Outlet_Size, dtype: int64"
      ]
     },
     "execution_count": 255,
     "metadata": {},
     "output_type": "execute_result"
    }
   ],
   "source": [
    "new_train['Outlet_Size'].value_counts()"
   ]
  },
  {
   "cell_type": "code",
   "execution_count": 256,
   "metadata": {},
   "outputs": [],
   "source": [
    "# Outlet_Size\n",
    "new_train['Outlet_Size'] = new_train['Outlet_Size'].replace({'Small':1,'Medium':2,'High':3})"
   ]
  },
  {
   "cell_type": "code",
   "execution_count": 257,
   "metadata": {},
   "outputs": [
    {
     "data": {
      "text/plain": [
       "Tier 3    3350\n",
       "Tier 2    2785\n",
       "Tier 1    2388\n",
       "Name: Outlet_Location_Type, dtype: int64"
      ]
     },
     "execution_count": 257,
     "metadata": {},
     "output_type": "execute_result"
    }
   ],
   "source": [
    "new_train['Outlet_Location_Type'].value_counts()"
   ]
  },
  {
   "cell_type": "code",
   "execution_count": 258,
   "metadata": {},
   "outputs": [],
   "source": [
    "# Outlet_Location_Type\n",
    "new_train['Outlet_Location_Type'] = new_train['Outlet_Location_Type'].replace({'Tier 3':1,'Tier 2':2,'Tier 1':3})"
   ]
  },
  {
   "cell_type": "code",
   "execution_count": 261,
   "metadata": {
    "scrolled": true
   },
   "outputs": [
    {
     "data": {
      "text/html": [
       "<div>\n",
       "<style scoped>\n",
       "    .dataframe tbody tr th:only-of-type {\n",
       "        vertical-align: middle;\n",
       "    }\n",
       "\n",
       "    .dataframe tbody tr th {\n",
       "        vertical-align: top;\n",
       "    }\n",
       "\n",
       "    .dataframe thead th {\n",
       "        text-align: right;\n",
       "    }\n",
       "</style>\n",
       "<table border=\"1\" class=\"dataframe\">\n",
       "  <thead>\n",
       "    <tr style=\"text-align: right;\">\n",
       "      <th></th>\n",
       "      <th>Item_Identifier</th>\n",
       "      <th>Item_Weight</th>\n",
       "      <th>Item_Visibility</th>\n",
       "      <th>Item_MRP</th>\n",
       "      <th>Outlet_Establishment_Year</th>\n",
       "      <th>Outlet_Size</th>\n",
       "      <th>Outlet_Location_Type</th>\n",
       "      <th>Item_Outlet_Sales</th>\n",
       "      <th>x0_LF</th>\n",
       "      <th>x0_Regular</th>\n",
       "      <th>...</th>\n",
       "      <th>x0_OUT019</th>\n",
       "      <th>x0_OUT027</th>\n",
       "      <th>x0_OUT035</th>\n",
       "      <th>x0_OUT045</th>\n",
       "      <th>x0_OUT046</th>\n",
       "      <th>x0_OUT049</th>\n",
       "      <th>x0_Grocery Store</th>\n",
       "      <th>x0_Supermarket Type1</th>\n",
       "      <th>x0_Supermarket Type2</th>\n",
       "      <th>x0_Supermarket Type3</th>\n",
       "    </tr>\n",
       "  </thead>\n",
       "  <tbody>\n",
       "    <tr>\n",
       "      <th>0</th>\n",
       "      <td>FDA15</td>\n",
       "      <td>9.30</td>\n",
       "      <td>0.016047</td>\n",
       "      <td>249.8092</td>\n",
       "      <td>1999</td>\n",
       "      <td>2</td>\n",
       "      <td>3</td>\n",
       "      <td>3735.1380</td>\n",
       "      <td>1.0</td>\n",
       "      <td>0.0</td>\n",
       "      <td>...</td>\n",
       "      <td>0.0</td>\n",
       "      <td>0.0</td>\n",
       "      <td>0.0</td>\n",
       "      <td>0.0</td>\n",
       "      <td>0.0</td>\n",
       "      <td>1.0</td>\n",
       "      <td>0.0</td>\n",
       "      <td>1.0</td>\n",
       "      <td>0.0</td>\n",
       "      <td>0.0</td>\n",
       "    </tr>\n",
       "    <tr>\n",
       "      <th>1</th>\n",
       "      <td>DRC01</td>\n",
       "      <td>5.92</td>\n",
       "      <td>0.019278</td>\n",
       "      <td>48.2692</td>\n",
       "      <td>2009</td>\n",
       "      <td>2</td>\n",
       "      <td>1</td>\n",
       "      <td>443.4228</td>\n",
       "      <td>0.0</td>\n",
       "      <td>1.0</td>\n",
       "      <td>...</td>\n",
       "      <td>0.0</td>\n",
       "      <td>0.0</td>\n",
       "      <td>0.0</td>\n",
       "      <td>0.0</td>\n",
       "      <td>0.0</td>\n",
       "      <td>0.0</td>\n",
       "      <td>0.0</td>\n",
       "      <td>0.0</td>\n",
       "      <td>1.0</td>\n",
       "      <td>0.0</td>\n",
       "    </tr>\n",
       "    <tr>\n",
       "      <th>2</th>\n",
       "      <td>FDN15</td>\n",
       "      <td>17.50</td>\n",
       "      <td>0.016760</td>\n",
       "      <td>141.6180</td>\n",
       "      <td>1999</td>\n",
       "      <td>2</td>\n",
       "      <td>3</td>\n",
       "      <td>2097.2700</td>\n",
       "      <td>1.0</td>\n",
       "      <td>0.0</td>\n",
       "      <td>...</td>\n",
       "      <td>0.0</td>\n",
       "      <td>0.0</td>\n",
       "      <td>0.0</td>\n",
       "      <td>0.0</td>\n",
       "      <td>0.0</td>\n",
       "      <td>1.0</td>\n",
       "      <td>0.0</td>\n",
       "      <td>1.0</td>\n",
       "      <td>0.0</td>\n",
       "      <td>0.0</td>\n",
       "    </tr>\n",
       "    <tr>\n",
       "      <th>3</th>\n",
       "      <td>FDX07</td>\n",
       "      <td>19.20</td>\n",
       "      <td>0.000000</td>\n",
       "      <td>182.0950</td>\n",
       "      <td>1998</td>\n",
       "      <td>1</td>\n",
       "      <td>1</td>\n",
       "      <td>732.3800</td>\n",
       "      <td>0.0</td>\n",
       "      <td>1.0</td>\n",
       "      <td>...</td>\n",
       "      <td>0.0</td>\n",
       "      <td>0.0</td>\n",
       "      <td>0.0</td>\n",
       "      <td>0.0</td>\n",
       "      <td>0.0</td>\n",
       "      <td>0.0</td>\n",
       "      <td>1.0</td>\n",
       "      <td>0.0</td>\n",
       "      <td>0.0</td>\n",
       "      <td>0.0</td>\n",
       "    </tr>\n",
       "    <tr>\n",
       "      <th>4</th>\n",
       "      <td>NCD19</td>\n",
       "      <td>8.93</td>\n",
       "      <td>0.000000</td>\n",
       "      <td>53.8614</td>\n",
       "      <td>1987</td>\n",
       "      <td>3</td>\n",
       "      <td>1</td>\n",
       "      <td>994.7052</td>\n",
       "      <td>1.0</td>\n",
       "      <td>0.0</td>\n",
       "      <td>...</td>\n",
       "      <td>0.0</td>\n",
       "      <td>0.0</td>\n",
       "      <td>0.0</td>\n",
       "      <td>0.0</td>\n",
       "      <td>0.0</td>\n",
       "      <td>0.0</td>\n",
       "      <td>0.0</td>\n",
       "      <td>1.0</td>\n",
       "      <td>0.0</td>\n",
       "      <td>0.0</td>\n",
       "    </tr>\n",
       "  </tbody>\n",
       "</table>\n",
       "<p>5 rows × 40 columns</p>\n",
       "</div>"
      ],
      "text/plain": [
       "  Item_Identifier  Item_Weight  Item_Visibility  Item_MRP  \\\n",
       "0           FDA15         9.30         0.016047  249.8092   \n",
       "1           DRC01         5.92         0.019278   48.2692   \n",
       "2           FDN15        17.50         0.016760  141.6180   \n",
       "3           FDX07        19.20         0.000000  182.0950   \n",
       "4           NCD19         8.93         0.000000   53.8614   \n",
       "\n",
       "   Outlet_Establishment_Year  Outlet_Size  Outlet_Location_Type  \\\n",
       "0                       1999            2                     3   \n",
       "1                       2009            2                     1   \n",
       "2                       1999            2                     3   \n",
       "3                       1998            1                     1   \n",
       "4                       1987            3                     1   \n",
       "\n",
       "   Item_Outlet_Sales  x0_LF  x0_Regular          ...           x0_OUT019  \\\n",
       "0          3735.1380    1.0         0.0          ...                 0.0   \n",
       "1           443.4228    0.0         1.0          ...                 0.0   \n",
       "2          2097.2700    1.0         0.0          ...                 0.0   \n",
       "3           732.3800    0.0         1.0          ...                 0.0   \n",
       "4           994.7052    1.0         0.0          ...                 0.0   \n",
       "\n",
       "   x0_OUT027  x0_OUT035  x0_OUT045  x0_OUT046  x0_OUT049  x0_Grocery Store  \\\n",
       "0        0.0        0.0        0.0        0.0        1.0               0.0   \n",
       "1        0.0        0.0        0.0        0.0        0.0               0.0   \n",
       "2        0.0        0.0        0.0        0.0        1.0               0.0   \n",
       "3        0.0        0.0        0.0        0.0        0.0               1.0   \n",
       "4        0.0        0.0        0.0        0.0        0.0               0.0   \n",
       "\n",
       "   x0_Supermarket Type1  x0_Supermarket Type2  x0_Supermarket Type3  \n",
       "0                   1.0                   0.0                   0.0  \n",
       "1                   0.0                   1.0                   0.0  \n",
       "2                   1.0                   0.0                   0.0  \n",
       "3                   0.0                   0.0                   0.0  \n",
       "4                   1.0                   0.0                   0.0  \n",
       "\n",
       "[5 rows x 40 columns]"
      ]
     },
     "execution_count": 261,
     "metadata": {},
     "output_type": "execute_result"
    }
   ],
   "source": [
    "new_train.head()"
   ]
  },
  {
   "cell_type": "code",
   "execution_count": 260,
   "metadata": {},
   "outputs": [],
   "source": [
    "# Outlet_Type\n",
    "res = enc.fit_transform(new_train[['Outlet_Type']]).toarray()\n",
    "new_train = pd.concat([new_train.drop('Outlet_Type',axis =1),pd.DataFrame(res,columns = enc.get_feature_names())],axis=1)"
   ]
  },
  {
   "cell_type": "code",
   "execution_count": 265,
   "metadata": {},
   "outputs": [],
   "source": [
    "# genrate base model\n",
    "target = new_train['Item_Outlet_Sales']\n",
    "new_train = new_train.drop(['Item_Outlet_Sales','Item_Identifier'],axis=1)"
   ]
  },
  {
   "cell_type": "code",
   "execution_count": 269,
   "metadata": {},
   "outputs": [],
   "source": [
    "# linear regression\n",
    "from sklearn.linear_model import LinearRegression\n",
    "from sklearn.model_selection import train_test_split\n",
    "from sklearn.metrics import mean_squared_error"
   ]
  },
  {
   "cell_type": "code",
   "execution_count": 271,
   "metadata": {},
   "outputs": [],
   "source": [
    "x_train,x_test,y_train,y_test = train_test_split(new_train,target,test_size = 0.30)"
   ]
  },
  {
   "cell_type": "code",
   "execution_count": 272,
   "metadata": {},
   "outputs": [
    {
     "data": {
      "text/plain": [
       "LinearRegression(copy_X=True, fit_intercept=True, n_jobs=None,\n",
       "         normalize=False)"
      ]
     },
     "execution_count": 272,
     "metadata": {},
     "output_type": "execute_result"
    }
   ],
   "source": [
    "lr = LinearRegression()\n",
    "lr.fit(x_train, y_train)"
   ]
  },
  {
   "cell_type": "code",
   "execution_count": 275,
   "metadata": {},
   "outputs": [],
   "source": [
    "pval = lr.predict(x_test)"
   ]
  },
  {
   "cell_type": "code",
   "execution_count": 280,
   "metadata": {},
   "outputs": [
    {
     "name": "stdout",
     "output_type": "stream",
     "text": [
      "1147.2990259104802\n"
     ]
    }
   ],
   "source": [
    "print(np.sqrt(mean_squared_error(y_test,pval)))"
   ]
  },
  {
   "cell_type": "code",
   "execution_count": 282,
   "metadata": {},
   "outputs": [
    {
     "name": "stdout",
     "output_type": "stream",
     "text": [
      "1147.2889968543054\n"
     ]
    }
   ],
   "source": [
    "# l2 norms with linear regression\n",
    "from sklearn.linear_model import RidgeCV\n",
    "clf = RidgeCV(alphas=[1e-3, 1e-2, 1e-1, 1])\n",
    "clf.fit(x_train, y_train)\n",
    "pval = clf.predict(x_test)\n",
    "print(np.sqrt(mean_squared_error(y_test,pval)))"
   ]
  },
  {
   "cell_type": "code",
   "execution_count": 283,
   "metadata": {},
   "outputs": [
    {
     "data": {
      "text/plain": [
       "0.5610827764353348"
      ]
     },
     "execution_count": 283,
     "metadata": {},
     "output_type": "execute_result"
    }
   ],
   "source": [
    "clf.score(x_train, y_train)"
   ]
  },
  {
   "cell_type": "code",
   "execution_count": 286,
   "metadata": {},
   "outputs": [
    {
     "data": {
      "text/plain": [
       "{'memory': None,\n",
       " 'steps': [('randomforestregressor',\n",
       "   RandomForestRegressor(bootstrap=True, criterion='mse', max_depth=None,\n",
       "              max_features='auto', max_leaf_nodes=None,\n",
       "              min_impurity_decrease=0.0, min_impurity_split=None,\n",
       "              min_samples_leaf=1, min_samples_split=2,\n",
       "              min_weight_fraction_leaf=0.0, n_estimators='warn', n_jobs=None,\n",
       "              oob_score=False, random_state=None, verbose=0, warm_start=False))],\n",
       " 'randomforestregressor': RandomForestRegressor(bootstrap=True, criterion='mse', max_depth=None,\n",
       "            max_features='auto', max_leaf_nodes=None,\n",
       "            min_impurity_decrease=0.0, min_impurity_split=None,\n",
       "            min_samples_leaf=1, min_samples_split=2,\n",
       "            min_weight_fraction_leaf=0.0, n_estimators='warn', n_jobs=None,\n",
       "            oob_score=False, random_state=None, verbose=0, warm_start=False),\n",
       " 'randomforestregressor__bootstrap': True,\n",
       " 'randomforestregressor__criterion': 'mse',\n",
       " 'randomforestregressor__max_depth': None,\n",
       " 'randomforestregressor__max_features': 'auto',\n",
       " 'randomforestregressor__max_leaf_nodes': None,\n",
       " 'randomforestregressor__min_impurity_decrease': 0.0,\n",
       " 'randomforestregressor__min_impurity_split': None,\n",
       " 'randomforestregressor__min_samples_leaf': 1,\n",
       " 'randomforestregressor__min_samples_split': 2,\n",
       " 'randomforestregressor__min_weight_fraction_leaf': 0.0,\n",
       " 'randomforestregressor__n_estimators': 'warn',\n",
       " 'randomforestregressor__n_jobs': None,\n",
       " 'randomforestregressor__oob_score': False,\n",
       " 'randomforestregressor__random_state': None,\n",
       " 'randomforestregressor__verbose': 0,\n",
       " 'randomforestregressor__warm_start': False}"
      ]
     },
     "execution_count": 286,
     "metadata": {},
     "output_type": "execute_result"
    }
   ],
   "source": [
    "# randomforest regression\n",
    "from sklearn.ensemble import RandomForestRegressor\n",
    "from sklearn.pipeline import make_pipeline\n",
    "from sklearn.model_selection import GridSearchCV\n",
    "pipeline = make_pipeline(RandomForestRegressor())\n",
    "pipeline.get_params()"
   ]
  },
  {
   "cell_type": "code",
   "execution_count": 287,
   "metadata": {},
   "outputs": [],
   "source": [
    "hyperparameters = {\n",
    "    'randomforestregressor__max_depth': [4,5,6,8,10],\n",
    "    'randomforestregressor__n_estimators':[50,100,200,500,1000]\n",
    "}\n",
    "clf = GridSearchCV(pipeline, hyperparameters, cv=6)"
   ]
  },
  {
   "cell_type": "code",
   "execution_count": 288,
   "metadata": {},
   "outputs": [
    {
     "data": {
      "text/plain": [
       "GridSearchCV(cv=6, error_score='raise-deprecating',\n",
       "       estimator=Pipeline(memory=None,\n",
       "     steps=[('randomforestregressor', RandomForestRegressor(bootstrap=True, criterion='mse', max_depth=None,\n",
       "           max_features='auto', max_leaf_nodes=None,\n",
       "           min_impurity_decrease=0.0, min_impurity_split=None,\n",
       "           min_samples_leaf=1, min_samples_split=2,\n",
       "           min_weight_fraction_leaf=0.0, n_estimators='warn', n_jobs=None,\n",
       "           oob_score=False, random_state=None, verbose=0, warm_start=False))]),\n",
       "       fit_params=None, iid='warn', n_jobs=None,\n",
       "       param_grid={'randomforestregressor__max_depth': [4, 5, 6, 8, 10], 'randomforestregressor__n_estimators': [50, 100, 200, 500, 1000]},\n",
       "       pre_dispatch='2*n_jobs', refit=True, return_train_score='warn',\n",
       "       scoring=None, verbose=0)"
      ]
     },
     "execution_count": 288,
     "metadata": {},
     "output_type": "execute_result"
    }
   ],
   "source": [
    "clf.fit(new_train,target)"
   ]
  },
  {
   "cell_type": "code",
   "execution_count": 289,
   "metadata": {},
   "outputs": [
    {
     "data": {
      "text/plain": [
       "{'randomforestregressor__max_depth': 6,\n",
       " 'randomforestregressor__n_estimators': 100}"
      ]
     },
     "execution_count": 289,
     "metadata": {},
     "output_type": "execute_result"
    }
   ],
   "source": [
    "clf.best_params_"
   ]
  },
  {
   "cell_type": "code",
   "execution_count": 292,
   "metadata": {},
   "outputs": [
    {
     "data": {
      "text/plain": [
       "True"
      ]
     },
     "execution_count": 292,
     "metadata": {},
     "output_type": "execute_result"
    }
   ],
   "source": [
    "clf.refit"
   ]
  },
  {
   "cell_type": "code",
   "execution_count": null,
   "metadata": {},
   "outputs": [],
   "source": []
  },
  {
   "cell_type": "code",
   "execution_count": 294,
   "metadata": {},
   "outputs": [
    {
     "name": "stdout",
     "output_type": "stream",
     "text": [
      "1059.4873051757493\n"
     ]
    }
   ],
   "source": [
    "pval = clf.predict(x_test)\n",
    "print(np.sqrt(mean_squared_error(y_test,pval)))"
   ]
  },
  {
   "cell_type": "code",
   "execution_count": 300,
   "metadata": {},
   "outputs": [
    {
     "data": {
      "text/html": [
       "<div>\n",
       "<style scoped>\n",
       "    .dataframe tbody tr th:only-of-type {\n",
       "        vertical-align: middle;\n",
       "    }\n",
       "\n",
       "    .dataframe tbody tr th {\n",
       "        vertical-align: top;\n",
       "    }\n",
       "\n",
       "    .dataframe thead th {\n",
       "        text-align: right;\n",
       "    }\n",
       "</style>\n",
       "<table border=\"1\" class=\"dataframe\">\n",
       "  <thead>\n",
       "    <tr style=\"text-align: right;\">\n",
       "      <th></th>\n",
       "      <th>Item_Identifier</th>\n",
       "      <th>Item_Weight</th>\n",
       "      <th>Item_Fat_Content</th>\n",
       "      <th>Item_Visibility</th>\n",
       "      <th>Item_Type</th>\n",
       "      <th>Item_MRP</th>\n",
       "      <th>Outlet_Identifier</th>\n",
       "      <th>Outlet_Establishment_Year</th>\n",
       "      <th>Outlet_Size</th>\n",
       "      <th>Outlet_Location_Type</th>\n",
       "      <th>Outlet_Type</th>\n",
       "    </tr>\n",
       "  </thead>\n",
       "  <tbody>\n",
       "    <tr>\n",
       "      <th>0</th>\n",
       "      <td>FDW58</td>\n",
       "      <td>20.750</td>\n",
       "      <td>Low Fat</td>\n",
       "      <td>0.007565</td>\n",
       "      <td>Snack Foods</td>\n",
       "      <td>107.8622</td>\n",
       "      <td>OUT049</td>\n",
       "      <td>1999</td>\n",
       "      <td>Medium</td>\n",
       "      <td>Tier 1</td>\n",
       "      <td>Supermarket Type1</td>\n",
       "    </tr>\n",
       "    <tr>\n",
       "      <th>1</th>\n",
       "      <td>FDW14</td>\n",
       "      <td>8.300</td>\n",
       "      <td>reg</td>\n",
       "      <td>0.038428</td>\n",
       "      <td>Dairy</td>\n",
       "      <td>87.3198</td>\n",
       "      <td>OUT017</td>\n",
       "      <td>2007</td>\n",
       "      <td>NaN</td>\n",
       "      <td>Tier 2</td>\n",
       "      <td>Supermarket Type1</td>\n",
       "    </tr>\n",
       "    <tr>\n",
       "      <th>2</th>\n",
       "      <td>NCN55</td>\n",
       "      <td>14.600</td>\n",
       "      <td>Low Fat</td>\n",
       "      <td>0.099575</td>\n",
       "      <td>Others</td>\n",
       "      <td>241.7538</td>\n",
       "      <td>OUT010</td>\n",
       "      <td>1998</td>\n",
       "      <td>NaN</td>\n",
       "      <td>Tier 3</td>\n",
       "      <td>Grocery Store</td>\n",
       "    </tr>\n",
       "    <tr>\n",
       "      <th>3</th>\n",
       "      <td>FDQ58</td>\n",
       "      <td>7.315</td>\n",
       "      <td>Low Fat</td>\n",
       "      <td>0.015388</td>\n",
       "      <td>Snack Foods</td>\n",
       "      <td>155.0340</td>\n",
       "      <td>OUT017</td>\n",
       "      <td>2007</td>\n",
       "      <td>NaN</td>\n",
       "      <td>Tier 2</td>\n",
       "      <td>Supermarket Type1</td>\n",
       "    </tr>\n",
       "    <tr>\n",
       "      <th>4</th>\n",
       "      <td>FDY38</td>\n",
       "      <td>NaN</td>\n",
       "      <td>Regular</td>\n",
       "      <td>0.118599</td>\n",
       "      <td>Dairy</td>\n",
       "      <td>234.2300</td>\n",
       "      <td>OUT027</td>\n",
       "      <td>1985</td>\n",
       "      <td>Medium</td>\n",
       "      <td>Tier 3</td>\n",
       "      <td>Supermarket Type3</td>\n",
       "    </tr>\n",
       "  </tbody>\n",
       "</table>\n",
       "</div>"
      ],
      "text/plain": [
       "  Item_Identifier  Item_Weight Item_Fat_Content  Item_Visibility    Item_Type  \\\n",
       "0           FDW58       20.750          Low Fat         0.007565  Snack Foods   \n",
       "1           FDW14        8.300              reg         0.038428        Dairy   \n",
       "2           NCN55       14.600          Low Fat         0.099575       Others   \n",
       "3           FDQ58        7.315          Low Fat         0.015388  Snack Foods   \n",
       "4           FDY38          NaN          Regular         0.118599        Dairy   \n",
       "\n",
       "   Item_MRP Outlet_Identifier  Outlet_Establishment_Year Outlet_Size  \\\n",
       "0  107.8622            OUT049                       1999      Medium   \n",
       "1   87.3198            OUT017                       2007         NaN   \n",
       "2  241.7538            OUT010                       1998         NaN   \n",
       "3  155.0340            OUT017                       2007         NaN   \n",
       "4  234.2300            OUT027                       1985      Medium   \n",
       "\n",
       "  Outlet_Location_Type        Outlet_Type  \n",
       "0               Tier 1  Supermarket Type1  \n",
       "1               Tier 2  Supermarket Type1  \n",
       "2               Tier 3      Grocery Store  \n",
       "3               Tier 2  Supermarket Type1  \n",
       "4               Tier 3  Supermarket Type3  "
      ]
     },
     "execution_count": 300,
     "metadata": {},
     "output_type": "execute_result"
    }
   ],
   "source": [
    "test = pd.read_csv('test.csv')\n",
    "test.head()"
   ]
  },
  {
   "cell_type": "code",
   "execution_count": 301,
   "metadata": {},
   "outputs": [
    {
     "data": {
      "text/plain": [
       "Item_Identifier                 0\n",
       "Item_Weight                   976\n",
       "Item_Fat_Content                0\n",
       "Item_Visibility                 0\n",
       "Item_Type                       0\n",
       "Item_MRP                        0\n",
       "Outlet_Identifier               0\n",
       "Outlet_Establishment_Year       0\n",
       "Outlet_Size                  1606\n",
       "Outlet_Location_Type            0\n",
       "Outlet_Type                     0\n",
       "dtype: int64"
      ]
     },
     "execution_count": 301,
     "metadata": {},
     "output_type": "execute_result"
    }
   ],
   "source": [
    "test.isnull().sum()"
   ]
  },
  {
   "cell_type": "code",
   "execution_count": 304,
   "metadata": {},
   "outputs": [],
   "source": [
    "# handle null values.\n",
    "for item in list(set(test['Item_Type'])):\n",
    "    test.loc[(test['Item_Weight'].isnull()) & (test['Item_Type'] == item),'Item_Weight'] = test[test['Item_Type'] == item]['Item_Weight'].mean()\n",
    "test['Outlet_Size'] = test['Outlet_Size'].fillna('Small')"
   ]
  },
  {
   "cell_type": "code",
   "execution_count": 305,
   "metadata": {},
   "outputs": [
    {
     "data": {
      "text/plain": [
       "Item_Identifier              0\n",
       "Item_Weight                  0\n",
       "Item_Fat_Content             0\n",
       "Item_Visibility              0\n",
       "Item_Type                    0\n",
       "Item_MRP                     0\n",
       "Outlet_Identifier            0\n",
       "Outlet_Establishment_Year    0\n",
       "Outlet_Size                  0\n",
       "Outlet_Location_Type         0\n",
       "Outlet_Type                  0\n",
       "dtype: int64"
      ]
     },
     "execution_count": 305,
     "metadata": {},
     "output_type": "execute_result"
    }
   ],
   "source": [
    "test.isnull().sum()"
   ]
  },
  {
   "cell_type": "code",
   "execution_count": 308,
   "metadata": {},
   "outputs": [
    {
     "data": {
      "text/plain": [
       "LF         3668\n",
       "Regular    2013\n",
       "Name: Item_Fat_Content, dtype: int64"
      ]
     },
     "execution_count": 308,
     "metadata": {},
     "output_type": "execute_result"
    }
   ],
   "source": [
    "test['Item_Fat_Content'].value_counts()"
   ]
  },
  {
   "cell_type": "code",
   "execution_count": 307,
   "metadata": {},
   "outputs": [],
   "source": [
    "test['Item_Fat_Content'] = test['Item_Fat_Content'].replace({'Low Fat':'LF','LF':'LF','low fat':'LF','Regular':'Regular','reg':'Regular'})"
   ]
  },
  {
   "cell_type": "code",
   "execution_count": 309,
   "metadata": {},
   "outputs": [],
   "source": [
    "# item_Fat_Content\n",
    "res = enc.fit_transform(test[['Item_Fat_Content']]).toarray()\n",
    "new_test = pd.concat([test.drop('Item_Fat_Content',axis =1),pd.DataFrame(res,columns = enc.get_feature_names())],axis=1)"
   ]
  },
  {
   "cell_type": "code",
   "execution_count": 311,
   "metadata": {},
   "outputs": [],
   "source": [
    "# Item_Type\n",
    "res = enc.fit_transform(new_test[['Item_Type']]).toarray()\n",
    "new_test = pd.concat([new_test.drop('Item_Type',axis =1),pd.DataFrame(res,columns = enc.get_feature_names())],axis=1)"
   ]
  },
  {
   "cell_type": "code",
   "execution_count": 313,
   "metadata": {},
   "outputs": [],
   "source": [
    "# Outlet_Identifier\n",
    "res = enc.fit_transform(new_test[['Outlet_Identifier']]).toarray()\n",
    "new_test = pd.concat([new_test.drop('Outlet_Identifier',axis =1),pd.DataFrame(res,columns = enc.get_feature_names())],axis=1)"
   ]
  },
  {
   "cell_type": "code",
   "execution_count": 315,
   "metadata": {},
   "outputs": [],
   "source": [
    "# Outlet_Size\n",
    "new_test['Outlet_Size'] = new_test['Outlet_Size'].replace({'Small':1,'Medium':2,'High':3})"
   ]
  },
  {
   "cell_type": "code",
   "execution_count": 317,
   "metadata": {},
   "outputs": [],
   "source": [
    "# Outlet_Location_Type\n",
    "new_test['Outlet_Location_Type'] = new_test['Outlet_Location_Type'].replace({'Tier 3':1,'Tier 2':2,'Tier 1':3})"
   ]
  },
  {
   "cell_type": "code",
   "execution_count": 320,
   "metadata": {},
   "outputs": [
    {
     "data": {
      "text/html": [
       "<div>\n",
       "<style scoped>\n",
       "    .dataframe tbody tr th:only-of-type {\n",
       "        vertical-align: middle;\n",
       "    }\n",
       "\n",
       "    .dataframe tbody tr th {\n",
       "        vertical-align: top;\n",
       "    }\n",
       "\n",
       "    .dataframe thead th {\n",
       "        text-align: right;\n",
       "    }\n",
       "</style>\n",
       "<table border=\"1\" class=\"dataframe\">\n",
       "  <thead>\n",
       "    <tr style=\"text-align: right;\">\n",
       "      <th></th>\n",
       "      <th>Item_Identifier</th>\n",
       "      <th>Item_Weight</th>\n",
       "      <th>Item_Visibility</th>\n",
       "      <th>Item_MRP</th>\n",
       "      <th>Outlet_Establishment_Year</th>\n",
       "      <th>Outlet_Size</th>\n",
       "      <th>Outlet_Location_Type</th>\n",
       "      <th>x0_LF</th>\n",
       "      <th>x0_Regular</th>\n",
       "      <th>x0_Baking Goods</th>\n",
       "      <th>...</th>\n",
       "      <th>x0_OUT019</th>\n",
       "      <th>x0_OUT027</th>\n",
       "      <th>x0_OUT035</th>\n",
       "      <th>x0_OUT045</th>\n",
       "      <th>x0_OUT046</th>\n",
       "      <th>x0_OUT049</th>\n",
       "      <th>x0_Grocery Store</th>\n",
       "      <th>x0_Supermarket Type1</th>\n",
       "      <th>x0_Supermarket Type2</th>\n",
       "      <th>x0_Supermarket Type3</th>\n",
       "    </tr>\n",
       "  </thead>\n",
       "  <tbody>\n",
       "    <tr>\n",
       "      <th>0</th>\n",
       "      <td>FDW58</td>\n",
       "      <td>20.75000</td>\n",
       "      <td>0.007565</td>\n",
       "      <td>107.8622</td>\n",
       "      <td>1999</td>\n",
       "      <td>2</td>\n",
       "      <td>3</td>\n",
       "      <td>1.0</td>\n",
       "      <td>0.0</td>\n",
       "      <td>0.0</td>\n",
       "      <td>...</td>\n",
       "      <td>0.0</td>\n",
       "      <td>0.0</td>\n",
       "      <td>0.0</td>\n",
       "      <td>0.0</td>\n",
       "      <td>0.0</td>\n",
       "      <td>1.0</td>\n",
       "      <td>0.0</td>\n",
       "      <td>1.0</td>\n",
       "      <td>0.0</td>\n",
       "      <td>0.0</td>\n",
       "    </tr>\n",
       "    <tr>\n",
       "      <th>1</th>\n",
       "      <td>FDW14</td>\n",
       "      <td>8.30000</td>\n",
       "      <td>0.038428</td>\n",
       "      <td>87.3198</td>\n",
       "      <td>2007</td>\n",
       "      <td>1</td>\n",
       "      <td>2</td>\n",
       "      <td>0.0</td>\n",
       "      <td>1.0</td>\n",
       "      <td>0.0</td>\n",
       "      <td>...</td>\n",
       "      <td>0.0</td>\n",
       "      <td>0.0</td>\n",
       "      <td>0.0</td>\n",
       "      <td>0.0</td>\n",
       "      <td>0.0</td>\n",
       "      <td>0.0</td>\n",
       "      <td>0.0</td>\n",
       "      <td>1.0</td>\n",
       "      <td>0.0</td>\n",
       "      <td>0.0</td>\n",
       "    </tr>\n",
       "    <tr>\n",
       "      <th>2</th>\n",
       "      <td>NCN55</td>\n",
       "      <td>14.60000</td>\n",
       "      <td>0.099575</td>\n",
       "      <td>241.7538</td>\n",
       "      <td>1998</td>\n",
       "      <td>1</td>\n",
       "      <td>1</td>\n",
       "      <td>1.0</td>\n",
       "      <td>0.0</td>\n",
       "      <td>0.0</td>\n",
       "      <td>...</td>\n",
       "      <td>0.0</td>\n",
       "      <td>0.0</td>\n",
       "      <td>0.0</td>\n",
       "      <td>0.0</td>\n",
       "      <td>0.0</td>\n",
       "      <td>0.0</td>\n",
       "      <td>1.0</td>\n",
       "      <td>0.0</td>\n",
       "      <td>0.0</td>\n",
       "      <td>0.0</td>\n",
       "    </tr>\n",
       "    <tr>\n",
       "      <th>3</th>\n",
       "      <td>FDQ58</td>\n",
       "      <td>7.31500</td>\n",
       "      <td>0.015388</td>\n",
       "      <td>155.0340</td>\n",
       "      <td>2007</td>\n",
       "      <td>1</td>\n",
       "      <td>2</td>\n",
       "      <td>1.0</td>\n",
       "      <td>0.0</td>\n",
       "      <td>0.0</td>\n",
       "      <td>...</td>\n",
       "      <td>0.0</td>\n",
       "      <td>0.0</td>\n",
       "      <td>0.0</td>\n",
       "      <td>0.0</td>\n",
       "      <td>0.0</td>\n",
       "      <td>0.0</td>\n",
       "      <td>0.0</td>\n",
       "      <td>1.0</td>\n",
       "      <td>0.0</td>\n",
       "      <td>0.0</td>\n",
       "    </tr>\n",
       "    <tr>\n",
       "      <th>4</th>\n",
       "      <td>FDY38</td>\n",
       "      <td>12.95504</td>\n",
       "      <td>0.118599</td>\n",
       "      <td>234.2300</td>\n",
       "      <td>1985</td>\n",
       "      <td>2</td>\n",
       "      <td>1</td>\n",
       "      <td>0.0</td>\n",
       "      <td>1.0</td>\n",
       "      <td>0.0</td>\n",
       "      <td>...</td>\n",
       "      <td>0.0</td>\n",
       "      <td>1.0</td>\n",
       "      <td>0.0</td>\n",
       "      <td>0.0</td>\n",
       "      <td>0.0</td>\n",
       "      <td>0.0</td>\n",
       "      <td>0.0</td>\n",
       "      <td>0.0</td>\n",
       "      <td>0.0</td>\n",
       "      <td>1.0</td>\n",
       "    </tr>\n",
       "  </tbody>\n",
       "</table>\n",
       "<p>5 rows × 39 columns</p>\n",
       "</div>"
      ],
      "text/plain": [
       "  Item_Identifier  Item_Weight  Item_Visibility  Item_MRP  \\\n",
       "0           FDW58     20.75000         0.007565  107.8622   \n",
       "1           FDW14      8.30000         0.038428   87.3198   \n",
       "2           NCN55     14.60000         0.099575  241.7538   \n",
       "3           FDQ58      7.31500         0.015388  155.0340   \n",
       "4           FDY38     12.95504         0.118599  234.2300   \n",
       "\n",
       "   Outlet_Establishment_Year  Outlet_Size  Outlet_Location_Type  x0_LF  \\\n",
       "0                       1999            2                     3    1.0   \n",
       "1                       2007            1                     2    0.0   \n",
       "2                       1998            1                     1    1.0   \n",
       "3                       2007            1                     2    1.0   \n",
       "4                       1985            2                     1    0.0   \n",
       "\n",
       "   x0_Regular  x0_Baking Goods          ...           x0_OUT019  x0_OUT027  \\\n",
       "0         0.0              0.0          ...                 0.0        0.0   \n",
       "1         1.0              0.0          ...                 0.0        0.0   \n",
       "2         0.0              0.0          ...                 0.0        0.0   \n",
       "3         0.0              0.0          ...                 0.0        0.0   \n",
       "4         1.0              0.0          ...                 0.0        1.0   \n",
       "\n",
       "   x0_OUT035  x0_OUT045  x0_OUT046  x0_OUT049  x0_Grocery Store  \\\n",
       "0        0.0        0.0        0.0        1.0               0.0   \n",
       "1        0.0        0.0        0.0        0.0               0.0   \n",
       "2        0.0        0.0        0.0        0.0               1.0   \n",
       "3        0.0        0.0        0.0        0.0               0.0   \n",
       "4        0.0        0.0        0.0        0.0               0.0   \n",
       "\n",
       "   x0_Supermarket Type1  x0_Supermarket Type2  x0_Supermarket Type3  \n",
       "0                   1.0                   0.0                   0.0  \n",
       "1                   1.0                   0.0                   0.0  \n",
       "2                   0.0                   0.0                   0.0  \n",
       "3                   1.0                   0.0                   0.0  \n",
       "4                   0.0                   0.0                   1.0  \n",
       "\n",
       "[5 rows x 39 columns]"
      ]
     },
     "execution_count": 320,
     "metadata": {},
     "output_type": "execute_result"
    }
   ],
   "source": [
    "new_test.head()"
   ]
  },
  {
   "cell_type": "code",
   "execution_count": 319,
   "metadata": {},
   "outputs": [],
   "source": [
    "# Outlet_Type\n",
    "res = enc.fit_transform(new_test[['Outlet_Type']]).toarray()\n",
    "new_test = pd.concat([new_test.drop('Outlet_Type',axis =1),pd.DataFrame(res,columns = enc.get_feature_names())],axis=1)"
   ]
  },
  {
   "cell_type": "code",
   "execution_count": 322,
   "metadata": {},
   "outputs": [],
   "source": [
    "tpval = clf.predict(new_test.drop('Item_Identifier',axis=1))"
   ]
  },
  {
   "cell_type": "code",
   "execution_count": 324,
   "metadata": {},
   "outputs": [
    {
     "name": "stderr",
     "output_type": "stream",
     "text": [
      "/home/doodlews108/anaconda3/lib/python3.7/site-packages/ipykernel_launcher.py:3: SettingWithCopyWarning: \n",
      "A value is trying to be set on a copy of a slice from a DataFrame.\n",
      "Try using .loc[row_indexer,col_indexer] = value instead\n",
      "\n",
      "See the caveats in the documentation: http://pandas.pydata.org/pandas-docs/stable/indexing.html#indexing-view-versus-copy\n",
      "  This is separate from the ipykernel package so we can avoid doing imports until\n"
     ]
    },
    {
     "data": {
      "text/html": [
       "<div>\n",
       "<style scoped>\n",
       "    .dataframe tbody tr th:only-of-type {\n",
       "        vertical-align: middle;\n",
       "    }\n",
       "\n",
       "    .dataframe tbody tr th {\n",
       "        vertical-align: top;\n",
       "    }\n",
       "\n",
       "    .dataframe thead th {\n",
       "        text-align: right;\n",
       "    }\n",
       "</style>\n",
       "<table border=\"1\" class=\"dataframe\">\n",
       "  <thead>\n",
       "    <tr style=\"text-align: right;\">\n",
       "      <th></th>\n",
       "      <th>Item_Identifier</th>\n",
       "      <th>Outlet_Identifier</th>\n",
       "      <th>Item_Outlet_Sales</th>\n",
       "    </tr>\n",
       "  </thead>\n",
       "  <tbody>\n",
       "    <tr>\n",
       "      <th>0</th>\n",
       "      <td>FDW58</td>\n",
       "      <td>OUT049</td>\n",
       "      <td>1643.724650</td>\n",
       "    </tr>\n",
       "    <tr>\n",
       "      <th>1</th>\n",
       "      <td>FDW14</td>\n",
       "      <td>OUT017</td>\n",
       "      <td>1354.167812</td>\n",
       "    </tr>\n",
       "    <tr>\n",
       "      <th>2</th>\n",
       "      <td>NCN55</td>\n",
       "      <td>OUT010</td>\n",
       "      <td>568.990453</td>\n",
       "    </tr>\n",
       "    <tr>\n",
       "      <th>3</th>\n",
       "      <td>FDQ58</td>\n",
       "      <td>OUT017</td>\n",
       "      <td>2476.785040</td>\n",
       "    </tr>\n",
       "    <tr>\n",
       "      <th>4</th>\n",
       "      <td>FDY38</td>\n",
       "      <td>OUT027</td>\n",
       "      <td>6199.380872</td>\n",
       "    </tr>\n",
       "  </tbody>\n",
       "</table>\n",
       "</div>"
      ],
      "text/plain": [
       "  Item_Identifier Outlet_Identifier  Item_Outlet_Sales\n",
       "0           FDW58            OUT049        1643.724650\n",
       "1           FDW14            OUT017        1354.167812\n",
       "2           NCN55            OUT010         568.990453\n",
       "3           FDQ58            OUT017        2476.785040\n",
       "4           FDY38            OUT027        6199.380872"
      ]
     },
     "execution_count": 324,
     "metadata": {},
     "output_type": "execute_result"
    }
   ],
   "source": [
    "# write to sample file\n",
    "submission = test[['Item_Identifier','Outlet_Identifier']]\n",
    "submission['Item_Outlet_Sales'] = tpval\n",
    "submission.head()"
   ]
  },
  {
   "cell_type": "code",
   "execution_count": 326,
   "metadata": {},
   "outputs": [],
   "source": [
    "submission.to_csv('submission_v1.csv',index=False)"
   ]
  },
  {
   "cell_type": "code",
   "execution_count": 327,
   "metadata": {},
   "outputs": [
    {
     "data": {
      "text/html": [
       "<div>\n",
       "<style scoped>\n",
       "    .dataframe tbody tr th:only-of-type {\n",
       "        vertical-align: middle;\n",
       "    }\n",
       "\n",
       "    .dataframe tbody tr th {\n",
       "        vertical-align: top;\n",
       "    }\n",
       "\n",
       "    .dataframe thead th {\n",
       "        text-align: right;\n",
       "    }\n",
       "</style>\n",
       "<table border=\"1\" class=\"dataframe\">\n",
       "  <thead>\n",
       "    <tr style=\"text-align: right;\">\n",
       "      <th></th>\n",
       "      <th>Item_Identifier</th>\n",
       "      <th>Item_Weight</th>\n",
       "      <th>Item_Fat_Content</th>\n",
       "      <th>Item_Visibility</th>\n",
       "      <th>Item_Type</th>\n",
       "      <th>Item_MRP</th>\n",
       "      <th>Outlet_Identifier</th>\n",
       "      <th>Outlet_Establishment_Year</th>\n",
       "      <th>Outlet_Size</th>\n",
       "      <th>Outlet_Location_Type</th>\n",
       "      <th>Outlet_Type</th>\n",
       "      <th>Item_Outlet_Sales</th>\n",
       "    </tr>\n",
       "  </thead>\n",
       "  <tbody>\n",
       "    <tr>\n",
       "      <th>0</th>\n",
       "      <td>FDA15</td>\n",
       "      <td>9.30</td>\n",
       "      <td>LF</td>\n",
       "      <td>0.016047</td>\n",
       "      <td>Dairy</td>\n",
       "      <td>249.8092</td>\n",
       "      <td>OUT049</td>\n",
       "      <td>1999</td>\n",
       "      <td>Medium</td>\n",
       "      <td>Tier 1</td>\n",
       "      <td>Supermarket Type1</td>\n",
       "      <td>3735.1380</td>\n",
       "    </tr>\n",
       "    <tr>\n",
       "      <th>1</th>\n",
       "      <td>DRC01</td>\n",
       "      <td>5.92</td>\n",
       "      <td>Regular</td>\n",
       "      <td>0.019278</td>\n",
       "      <td>Soft Drinks</td>\n",
       "      <td>48.2692</td>\n",
       "      <td>OUT018</td>\n",
       "      <td>2009</td>\n",
       "      <td>Medium</td>\n",
       "      <td>Tier 3</td>\n",
       "      <td>Supermarket Type2</td>\n",
       "      <td>443.4228</td>\n",
       "    </tr>\n",
       "    <tr>\n",
       "      <th>2</th>\n",
       "      <td>FDN15</td>\n",
       "      <td>17.50</td>\n",
       "      <td>LF</td>\n",
       "      <td>0.016760</td>\n",
       "      <td>Meat</td>\n",
       "      <td>141.6180</td>\n",
       "      <td>OUT049</td>\n",
       "      <td>1999</td>\n",
       "      <td>Medium</td>\n",
       "      <td>Tier 1</td>\n",
       "      <td>Supermarket Type1</td>\n",
       "      <td>2097.2700</td>\n",
       "    </tr>\n",
       "    <tr>\n",
       "      <th>3</th>\n",
       "      <td>FDX07</td>\n",
       "      <td>19.20</td>\n",
       "      <td>Regular</td>\n",
       "      <td>0.000000</td>\n",
       "      <td>Fruits and Vegetables</td>\n",
       "      <td>182.0950</td>\n",
       "      <td>OUT010</td>\n",
       "      <td>1998</td>\n",
       "      <td>Small</td>\n",
       "      <td>Tier 3</td>\n",
       "      <td>Grocery Store</td>\n",
       "      <td>732.3800</td>\n",
       "    </tr>\n",
       "    <tr>\n",
       "      <th>4</th>\n",
       "      <td>NCD19</td>\n",
       "      <td>8.93</td>\n",
       "      <td>LF</td>\n",
       "      <td>0.000000</td>\n",
       "      <td>Household</td>\n",
       "      <td>53.8614</td>\n",
       "      <td>OUT013</td>\n",
       "      <td>1987</td>\n",
       "      <td>High</td>\n",
       "      <td>Tier 3</td>\n",
       "      <td>Supermarket Type1</td>\n",
       "      <td>994.7052</td>\n",
       "    </tr>\n",
       "  </tbody>\n",
       "</table>\n",
       "</div>"
      ],
      "text/plain": [
       "  Item_Identifier  Item_Weight Item_Fat_Content  Item_Visibility  \\\n",
       "0           FDA15         9.30               LF         0.016047   \n",
       "1           DRC01         5.92          Regular         0.019278   \n",
       "2           FDN15        17.50               LF         0.016760   \n",
       "3           FDX07        19.20          Regular         0.000000   \n",
       "4           NCD19         8.93               LF         0.000000   \n",
       "\n",
       "               Item_Type  Item_MRP Outlet_Identifier  \\\n",
       "0                  Dairy  249.8092            OUT049   \n",
       "1            Soft Drinks   48.2692            OUT018   \n",
       "2                   Meat  141.6180            OUT049   \n",
       "3  Fruits and Vegetables  182.0950            OUT010   \n",
       "4              Household   53.8614            OUT013   \n",
       "\n",
       "   Outlet_Establishment_Year Outlet_Size Outlet_Location_Type  \\\n",
       "0                       1999      Medium               Tier 1   \n",
       "1                       2009      Medium               Tier 3   \n",
       "2                       1999      Medium               Tier 1   \n",
       "3                       1998       Small               Tier 3   \n",
       "4                       1987        High               Tier 3   \n",
       "\n",
       "         Outlet_Type  Item_Outlet_Sales  \n",
       "0  Supermarket Type1          3735.1380  \n",
       "1  Supermarket Type2           443.4228  \n",
       "2  Supermarket Type1          2097.2700  \n",
       "3      Grocery Store           732.3800  \n",
       "4  Supermarket Type1           994.7052  "
      ]
     },
     "execution_count": 327,
     "metadata": {},
     "output_type": "execute_result"
    }
   ],
   "source": [
    "# results improvement\n",
    "train.head()"
   ]
  },
  {
   "cell_type": "code",
   "execution_count": 347,
   "metadata": {},
   "outputs": [
    {
     "data": {
      "text/html": [
       "<div>\n",
       "<style scoped>\n",
       "    .dataframe tbody tr th:only-of-type {\n",
       "        vertical-align: middle;\n",
       "    }\n",
       "\n",
       "    .dataframe tbody tr th {\n",
       "        vertical-align: top;\n",
       "    }\n",
       "\n",
       "    .dataframe thead th {\n",
       "        text-align: right;\n",
       "    }\n",
       "</style>\n",
       "<table border=\"1\" class=\"dataframe\">\n",
       "  <thead>\n",
       "    <tr style=\"text-align: right;\">\n",
       "      <th></th>\n",
       "      <th>x0_LF</th>\n",
       "      <th>x0_Regular</th>\n",
       "      <th>target</th>\n",
       "    </tr>\n",
       "  </thead>\n",
       "  <tbody>\n",
       "    <tr>\n",
       "      <th>x0_LF</th>\n",
       "      <td>1.000000</td>\n",
       "      <td>-1.000000</td>\n",
       "      <td>-0.018719</td>\n",
       "    </tr>\n",
       "    <tr>\n",
       "      <th>x0_Regular</th>\n",
       "      <td>-1.000000</td>\n",
       "      <td>1.000000</td>\n",
       "      <td>0.018719</td>\n",
       "    </tr>\n",
       "    <tr>\n",
       "      <th>target</th>\n",
       "      <td>-0.018719</td>\n",
       "      <td>0.018719</td>\n",
       "      <td>1.000000</td>\n",
       "    </tr>\n",
       "  </tbody>\n",
       "</table>\n",
       "</div>"
      ],
      "text/plain": [
       "               x0_LF  x0_Regular    target\n",
       "x0_LF       1.000000   -1.000000 -0.018719\n",
       "x0_Regular -1.000000    1.000000  0.018719\n",
       "target     -0.018719    0.018719  1.000000"
      ]
     },
     "execution_count": 347,
     "metadata": {},
     "output_type": "execute_result"
    }
   ],
   "source": [
    "# correlation with Item_Fat_Content\n",
    "res = enc.fit_transform(train[['Item_Fat_Content']]).toarray()\n",
    "new_p = pd.DataFrame(res,columns = enc.get_feature_names())\n",
    "new_p['target'] = train['Item_Outlet_Sales']\n",
    "new_p.corr()"
   ]
  },
  {
   "cell_type": "code",
   "execution_count": null,
   "metadata": {},
   "outputs": [],
   "source": [
    "new_p"
   ]
  },
  {
   "cell_type": "code",
   "execution_count": 346,
   "metadata": {},
   "outputs": [
    {
     "data": {
      "text/html": [
       "<div>\n",
       "<style scoped>\n",
       "    .dataframe tbody tr th:only-of-type {\n",
       "        vertical-align: middle;\n",
       "    }\n",
       "\n",
       "    .dataframe tbody tr th {\n",
       "        vertical-align: top;\n",
       "    }\n",
       "\n",
       "    .dataframe thead th {\n",
       "        text-align: right;\n",
       "    }\n",
       "</style>\n",
       "<table border=\"1\" class=\"dataframe\">\n",
       "  <thead>\n",
       "    <tr style=\"text-align: right;\">\n",
       "      <th></th>\n",
       "      <th>x0_Grocery Store</th>\n",
       "      <th>x0_Supermarket Type1</th>\n",
       "      <th>x0_Supermarket Type2</th>\n",
       "      <th>x0_Supermarket Type3</th>\n",
       "      <th>target</th>\n",
       "    </tr>\n",
       "  </thead>\n",
       "  <tbody>\n",
       "    <tr>\n",
       "      <th>x0_Grocery Store</th>\n",
       "      <td>1.000000</td>\n",
       "      <td>-0.524942</td>\n",
       "      <td>-0.133364</td>\n",
       "      <td>-0.133928</td>\n",
       "      <td>-0.411727</td>\n",
       "    </tr>\n",
       "    <tr>\n",
       "      <th>x0_Supermarket Type1</th>\n",
       "      <td>-0.524942</td>\n",
       "      <td>1.000000</td>\n",
       "      <td>-0.480943</td>\n",
       "      <td>-0.482977</td>\n",
       "      <td>0.108765</td>\n",
       "    </tr>\n",
       "    <tr>\n",
       "      <th>x0_Supermarket Type2</th>\n",
       "      <td>-0.133364</td>\n",
       "      <td>-0.480943</td>\n",
       "      <td>1.000000</td>\n",
       "      <td>-0.122702</td>\n",
       "      <td>-0.038059</td>\n",
       "    </tr>\n",
       "    <tr>\n",
       "      <th>x0_Supermarket Type3</th>\n",
       "      <td>-0.133928</td>\n",
       "      <td>-0.482977</td>\n",
       "      <td>-0.122702</td>\n",
       "      <td>1.000000</td>\n",
       "      <td>0.311192</td>\n",
       "    </tr>\n",
       "    <tr>\n",
       "      <th>target</th>\n",
       "      <td>-0.411727</td>\n",
       "      <td>0.108765</td>\n",
       "      <td>-0.038059</td>\n",
       "      <td>0.311192</td>\n",
       "      <td>1.000000</td>\n",
       "    </tr>\n",
       "  </tbody>\n",
       "</table>\n",
       "</div>"
      ],
      "text/plain": [
       "                      x0_Grocery Store  x0_Supermarket Type1  \\\n",
       "x0_Grocery Store              1.000000             -0.524942   \n",
       "x0_Supermarket Type1         -0.524942              1.000000   \n",
       "x0_Supermarket Type2         -0.133364             -0.480943   \n",
       "x0_Supermarket Type3         -0.133928             -0.482977   \n",
       "target                       -0.411727              0.108765   \n",
       "\n",
       "                      x0_Supermarket Type2  x0_Supermarket Type3    target  \n",
       "x0_Grocery Store                 -0.133364             -0.133928 -0.411727  \n",
       "x0_Supermarket Type1             -0.480943             -0.482977  0.108765  \n",
       "x0_Supermarket Type2              1.000000             -0.122702 -0.038059  \n",
       "x0_Supermarket Type3             -0.122702              1.000000  0.311192  \n",
       "target                           -0.038059              0.311192  1.000000  "
      ]
     },
     "execution_count": 346,
     "metadata": {},
     "output_type": "execute_result"
    }
   ],
   "source": [
    "# correlation with Outlet_Type \n",
    "res = enc.fit_transform(train[['Outlet_Type']]).toarray()\n",
    "new_p= pd.DataFrame(res,columns = enc.get_feature_names())\n",
    "new_p['target'] = train['Item_Outlet_Sales']\n",
    "new_p.corr()"
   ]
  },
  {
   "cell_type": "code",
   "execution_count": 348,
   "metadata": {},
   "outputs": [
    {
     "data": {
      "text/html": [
       "<div>\n",
       "<style scoped>\n",
       "    .dataframe tbody tr th:only-of-type {\n",
       "        vertical-align: middle;\n",
       "    }\n",
       "\n",
       "    .dataframe tbody tr th {\n",
       "        vertical-align: top;\n",
       "    }\n",
       "\n",
       "    .dataframe thead th {\n",
       "        text-align: right;\n",
       "    }\n",
       "</style>\n",
       "<table border=\"1\" class=\"dataframe\">\n",
       "  <thead>\n",
       "    <tr style=\"text-align: right;\">\n",
       "      <th></th>\n",
       "      <th>x0_Baking Goods</th>\n",
       "      <th>x0_Breads</th>\n",
       "      <th>x0_Breakfast</th>\n",
       "      <th>x0_Canned</th>\n",
       "      <th>x0_Dairy</th>\n",
       "      <th>x0_Frozen Foods</th>\n",
       "      <th>x0_Fruits and Vegetables</th>\n",
       "      <th>x0_Hard Drinks</th>\n",
       "      <th>x0_Health and Hygiene</th>\n",
       "      <th>x0_Household</th>\n",
       "      <th>x0_Meat</th>\n",
       "      <th>x0_Others</th>\n",
       "      <th>x0_Seafood</th>\n",
       "      <th>x0_Snack Foods</th>\n",
       "      <th>x0_Soft Drinks</th>\n",
       "      <th>x0_Starchy Foods</th>\n",
       "      <th>target</th>\n",
       "    </tr>\n",
       "  </thead>\n",
       "  <tbody>\n",
       "    <tr>\n",
       "      <th>x0_Baking Goods</th>\n",
       "      <td>1.000000</td>\n",
       "      <td>-0.049968</td>\n",
       "      <td>-0.032801</td>\n",
       "      <td>-0.082354</td>\n",
       "      <td>-0.084600</td>\n",
       "      <td>-0.095849</td>\n",
       "      <td>-0.117916</td>\n",
       "      <td>-0.046036</td>\n",
       "      <td>-0.073120</td>\n",
       "      <td>-0.099176</td>\n",
       "      <td>-0.065715</td>\n",
       "      <td>-0.040800</td>\n",
       "      <td>-0.024951</td>\n",
       "      <td>-0.116120</td>\n",
       "      <td>-0.067327</td>\n",
       "      <td>-0.038133</td>\n",
       "      <td>-0.038381</td>\n",
       "    </tr>\n",
       "    <tr>\n",
       "      <th>x0_Breads</th>\n",
       "      <td>-0.049968</td>\n",
       "      <td>1.000000</td>\n",
       "      <td>-0.019918</td>\n",
       "      <td>-0.050010</td>\n",
       "      <td>-0.051373</td>\n",
       "      <td>-0.058204</td>\n",
       "      <td>-0.071605</td>\n",
       "      <td>-0.027955</td>\n",
       "      <td>-0.044402</td>\n",
       "      <td>-0.060225</td>\n",
       "      <td>-0.039906</td>\n",
       "      <td>-0.024776</td>\n",
       "      <td>-0.015152</td>\n",
       "      <td>-0.070514</td>\n",
       "      <td>-0.040885</td>\n",
       "      <td>-0.023156</td>\n",
       "      <td>0.002332</td>\n",
       "    </tr>\n",
       "    <tr>\n",
       "      <th>x0_Breakfast</th>\n",
       "      <td>-0.032801</td>\n",
       "      <td>-0.019918</td>\n",
       "      <td>1.000000</td>\n",
       "      <td>-0.032828</td>\n",
       "      <td>-0.033723</td>\n",
       "      <td>-0.038207</td>\n",
       "      <td>-0.047004</td>\n",
       "      <td>-0.018351</td>\n",
       "      <td>-0.029147</td>\n",
       "      <td>-0.039533</td>\n",
       "      <td>-0.026195</td>\n",
       "      <td>-0.016264</td>\n",
       "      <td>-0.009946</td>\n",
       "      <td>-0.046288</td>\n",
       "      <td>-0.026838</td>\n",
       "      <td>-0.015201</td>\n",
       "      <td>-0.004656</td>\n",
       "    </tr>\n",
       "    <tr>\n",
       "      <th>x0_Canned</th>\n",
       "      <td>-0.082354</td>\n",
       "      <td>-0.050010</td>\n",
       "      <td>-0.032828</td>\n",
       "      <td>1.000000</td>\n",
       "      <td>-0.084670</td>\n",
       "      <td>-0.095929</td>\n",
       "      <td>-0.118015</td>\n",
       "      <td>-0.046074</td>\n",
       "      <td>-0.073181</td>\n",
       "      <td>-0.099258</td>\n",
       "      <td>-0.065770</td>\n",
       "      <td>-0.040834</td>\n",
       "      <td>-0.024972</td>\n",
       "      <td>-0.116217</td>\n",
       "      <td>-0.067383</td>\n",
       "      <td>-0.038165</td>\n",
       "      <td>0.007387</td>\n",
       "    </tr>\n",
       "    <tr>\n",
       "      <th>x0_Dairy</th>\n",
       "      <td>-0.084600</td>\n",
       "      <td>-0.051373</td>\n",
       "      <td>-0.033723</td>\n",
       "      <td>-0.084670</td>\n",
       "      <td>1.000000</td>\n",
       "      <td>-0.098544</td>\n",
       "      <td>-0.121232</td>\n",
       "      <td>-0.047330</td>\n",
       "      <td>-0.075176</td>\n",
       "      <td>-0.101965</td>\n",
       "      <td>-0.067563</td>\n",
       "      <td>-0.041947</td>\n",
       "      <td>-0.025653</td>\n",
       "      <td>-0.119386</td>\n",
       "      <td>-0.069220</td>\n",
       "      <td>-0.039205</td>\n",
       "      <td>0.008858</td>\n",
       "    </tr>\n",
       "    <tr>\n",
       "      <th>x0_Frozen Foods</th>\n",
       "      <td>-0.095849</td>\n",
       "      <td>-0.058204</td>\n",
       "      <td>-0.038207</td>\n",
       "      <td>-0.095929</td>\n",
       "      <td>-0.098544</td>\n",
       "      <td>1.000000</td>\n",
       "      <td>-0.137352</td>\n",
       "      <td>-0.053624</td>\n",
       "      <td>-0.085173</td>\n",
       "      <td>-0.115523</td>\n",
       "      <td>-0.076547</td>\n",
       "      <td>-0.047525</td>\n",
       "      <td>-0.029064</td>\n",
       "      <td>-0.135260</td>\n",
       "      <td>-0.078425</td>\n",
       "      <td>-0.044418</td>\n",
       "      <td>-0.009482</td>\n",
       "    </tr>\n",
       "    <tr>\n",
       "      <th>x0_Fruits and Vegetables</th>\n",
       "      <td>-0.117916</td>\n",
       "      <td>-0.071605</td>\n",
       "      <td>-0.047004</td>\n",
       "      <td>-0.118015</td>\n",
       "      <td>-0.121232</td>\n",
       "      <td>-0.137352</td>\n",
       "      <td>1.000000</td>\n",
       "      <td>-0.065970</td>\n",
       "      <td>-0.104782</td>\n",
       "      <td>-0.142120</td>\n",
       "      <td>-0.094171</td>\n",
       "      <td>-0.058467</td>\n",
       "      <td>-0.035755</td>\n",
       "      <td>-0.166402</td>\n",
       "      <td>-0.096481</td>\n",
       "      <td>-0.054645</td>\n",
       "      <td>0.025950</td>\n",
       "    </tr>\n",
       "    <tr>\n",
       "      <th>x0_Hard Drinks</th>\n",
       "      <td>-0.046036</td>\n",
       "      <td>-0.027955</td>\n",
       "      <td>-0.018351</td>\n",
       "      <td>-0.046074</td>\n",
       "      <td>-0.047330</td>\n",
       "      <td>-0.053624</td>\n",
       "      <td>-0.065970</td>\n",
       "      <td>1.000000</td>\n",
       "      <td>-0.040908</td>\n",
       "      <td>-0.055485</td>\n",
       "      <td>-0.036765</td>\n",
       "      <td>-0.022826</td>\n",
       "      <td>-0.013959</td>\n",
       "      <td>-0.064965</td>\n",
       "      <td>-0.037667</td>\n",
       "      <td>-0.021334</td>\n",
       "      <td>-0.003956</td>\n",
       "    </tr>\n",
       "    <tr>\n",
       "      <th>x0_Health and Hygiene</th>\n",
       "      <td>-0.073120</td>\n",
       "      <td>-0.044402</td>\n",
       "      <td>-0.029147</td>\n",
       "      <td>-0.073181</td>\n",
       "      <td>-0.075176</td>\n",
       "      <td>-0.085173</td>\n",
       "      <td>-0.104782</td>\n",
       "      <td>-0.040908</td>\n",
       "      <td>1.000000</td>\n",
       "      <td>-0.088129</td>\n",
       "      <td>-0.058396</td>\n",
       "      <td>-0.036255</td>\n",
       "      <td>-0.022172</td>\n",
       "      <td>-0.103186</td>\n",
       "      <td>-0.059828</td>\n",
       "      <td>-0.033885</td>\n",
       "      <td>-0.025587</td>\n",
       "    </tr>\n",
       "    <tr>\n",
       "      <th>x0_Household</th>\n",
       "      <td>-0.099176</td>\n",
       "      <td>-0.060225</td>\n",
       "      <td>-0.039533</td>\n",
       "      <td>-0.099258</td>\n",
       "      <td>-0.101965</td>\n",
       "      <td>-0.115523</td>\n",
       "      <td>-0.142120</td>\n",
       "      <td>-0.055485</td>\n",
       "      <td>-0.088129</td>\n",
       "      <td>1.000000</td>\n",
       "      <td>-0.079204</td>\n",
       "      <td>-0.049174</td>\n",
       "      <td>-0.030073</td>\n",
       "      <td>-0.139955</td>\n",
       "      <td>-0.081147</td>\n",
       "      <td>-0.045960</td>\n",
       "      <td>0.015701</td>\n",
       "    </tr>\n",
       "    <tr>\n",
       "      <th>x0_Meat</th>\n",
       "      <td>-0.065715</td>\n",
       "      <td>-0.039906</td>\n",
       "      <td>-0.026195</td>\n",
       "      <td>-0.065770</td>\n",
       "      <td>-0.067563</td>\n",
       "      <td>-0.076547</td>\n",
       "      <td>-0.094171</td>\n",
       "      <td>-0.036765</td>\n",
       "      <td>-0.058396</td>\n",
       "      <td>-0.079204</td>\n",
       "      <td>1.000000</td>\n",
       "      <td>-0.032584</td>\n",
       "      <td>-0.019927</td>\n",
       "      <td>-0.092737</td>\n",
       "      <td>-0.053769</td>\n",
       "      <td>-0.030454</td>\n",
       "      <td>-0.002995</td>\n",
       "    </tr>\n",
       "    <tr>\n",
       "      <th>x0_Others</th>\n",
       "      <td>-0.040800</td>\n",
       "      <td>-0.024776</td>\n",
       "      <td>-0.016264</td>\n",
       "      <td>-0.040834</td>\n",
       "      <td>-0.041947</td>\n",
       "      <td>-0.047525</td>\n",
       "      <td>-0.058467</td>\n",
       "      <td>-0.022826</td>\n",
       "      <td>-0.036255</td>\n",
       "      <td>-0.049174</td>\n",
       "      <td>-0.032584</td>\n",
       "      <td>1.000000</td>\n",
       "      <td>-0.012372</td>\n",
       "      <td>-0.057576</td>\n",
       "      <td>-0.033383</td>\n",
       "      <td>-0.018908</td>\n",
       "      <td>-0.021267</td>\n",
       "    </tr>\n",
       "    <tr>\n",
       "      <th>x0_Seafood</th>\n",
       "      <td>-0.024951</td>\n",
       "      <td>-0.015152</td>\n",
       "      <td>-0.009946</td>\n",
       "      <td>-0.024972</td>\n",
       "      <td>-0.025653</td>\n",
       "      <td>-0.029064</td>\n",
       "      <td>-0.035755</td>\n",
       "      <td>-0.013959</td>\n",
       "      <td>-0.022172</td>\n",
       "      <td>-0.030073</td>\n",
       "      <td>-0.019927</td>\n",
       "      <td>-0.012372</td>\n",
       "      <td>1.000000</td>\n",
       "      <td>-0.035211</td>\n",
       "      <td>-0.020415</td>\n",
       "      <td>-0.011563</td>\n",
       "      <td>0.007380</td>\n",
       "    </tr>\n",
       "    <tr>\n",
       "      <th>x0_Snack Foods</th>\n",
       "      <td>-0.116120</td>\n",
       "      <td>-0.070514</td>\n",
       "      <td>-0.046288</td>\n",
       "      <td>-0.116217</td>\n",
       "      <td>-0.119386</td>\n",
       "      <td>-0.135260</td>\n",
       "      <td>-0.166402</td>\n",
       "      <td>-0.064965</td>\n",
       "      <td>-0.103186</td>\n",
       "      <td>-0.139955</td>\n",
       "      <td>-0.092737</td>\n",
       "      <td>-0.057576</td>\n",
       "      <td>-0.035211</td>\n",
       "      <td>1.000000</td>\n",
       "      <td>-0.095011</td>\n",
       "      <td>-0.053813</td>\n",
       "      <td>0.022782</td>\n",
       "    </tr>\n",
       "    <tr>\n",
       "      <th>x0_Soft Drinks</th>\n",
       "      <td>-0.067327</td>\n",
       "      <td>-0.040885</td>\n",
       "      <td>-0.026838</td>\n",
       "      <td>-0.067383</td>\n",
       "      <td>-0.069220</td>\n",
       "      <td>-0.078425</td>\n",
       "      <td>-0.096481</td>\n",
       "      <td>-0.037667</td>\n",
       "      <td>-0.059828</td>\n",
       "      <td>-0.081147</td>\n",
       "      <td>-0.053769</td>\n",
       "      <td>-0.033383</td>\n",
       "      <td>-0.020415</td>\n",
       "      <td>-0.095011</td>\n",
       "      <td>1.000000</td>\n",
       "      <td>-0.031201</td>\n",
       "      <td>-0.024040</td>\n",
       "    </tr>\n",
       "    <tr>\n",
       "      <th>x0_Starchy Foods</th>\n",
       "      <td>-0.038133</td>\n",
       "      <td>-0.023156</td>\n",
       "      <td>-0.015201</td>\n",
       "      <td>-0.038165</td>\n",
       "      <td>-0.039205</td>\n",
       "      <td>-0.044418</td>\n",
       "      <td>-0.054645</td>\n",
       "      <td>-0.021334</td>\n",
       "      <td>-0.033885</td>\n",
       "      <td>-0.045960</td>\n",
       "      <td>-0.030454</td>\n",
       "      <td>-0.018908</td>\n",
       "      <td>-0.011563</td>\n",
       "      <td>-0.053813</td>\n",
       "      <td>-0.031201</td>\n",
       "      <td>1.000000</td>\n",
       "      <td>0.015039</td>\n",
       "    </tr>\n",
       "    <tr>\n",
       "      <th>target</th>\n",
       "      <td>-0.038381</td>\n",
       "      <td>0.002332</td>\n",
       "      <td>-0.004656</td>\n",
       "      <td>0.007387</td>\n",
       "      <td>0.008858</td>\n",
       "      <td>-0.009482</td>\n",
       "      <td>0.025950</td>\n",
       "      <td>-0.003956</td>\n",
       "      <td>-0.025587</td>\n",
       "      <td>0.015701</td>\n",
       "      <td>-0.002995</td>\n",
       "      <td>-0.021267</td>\n",
       "      <td>0.007380</td>\n",
       "      <td>0.022782</td>\n",
       "      <td>-0.024040</td>\n",
       "      <td>0.015039</td>\n",
       "      <td>1.000000</td>\n",
       "    </tr>\n",
       "  </tbody>\n",
       "</table>\n",
       "</div>"
      ],
      "text/plain": [
       "                          x0_Baking Goods  x0_Breads  x0_Breakfast  x0_Canned  \\\n",
       "x0_Baking Goods                  1.000000  -0.049968     -0.032801  -0.082354   \n",
       "x0_Breads                       -0.049968   1.000000     -0.019918  -0.050010   \n",
       "x0_Breakfast                    -0.032801  -0.019918      1.000000  -0.032828   \n",
       "x0_Canned                       -0.082354  -0.050010     -0.032828   1.000000   \n",
       "x0_Dairy                        -0.084600  -0.051373     -0.033723  -0.084670   \n",
       "x0_Frozen Foods                 -0.095849  -0.058204     -0.038207  -0.095929   \n",
       "x0_Fruits and Vegetables        -0.117916  -0.071605     -0.047004  -0.118015   \n",
       "x0_Hard Drinks                  -0.046036  -0.027955     -0.018351  -0.046074   \n",
       "x0_Health and Hygiene           -0.073120  -0.044402     -0.029147  -0.073181   \n",
       "x0_Household                    -0.099176  -0.060225     -0.039533  -0.099258   \n",
       "x0_Meat                         -0.065715  -0.039906     -0.026195  -0.065770   \n",
       "x0_Others                       -0.040800  -0.024776     -0.016264  -0.040834   \n",
       "x0_Seafood                      -0.024951  -0.015152     -0.009946  -0.024972   \n",
       "x0_Snack Foods                  -0.116120  -0.070514     -0.046288  -0.116217   \n",
       "x0_Soft Drinks                  -0.067327  -0.040885     -0.026838  -0.067383   \n",
       "x0_Starchy Foods                -0.038133  -0.023156     -0.015201  -0.038165   \n",
       "target                          -0.038381   0.002332     -0.004656   0.007387   \n",
       "\n",
       "                          x0_Dairy  x0_Frozen Foods  x0_Fruits and Vegetables  \\\n",
       "x0_Baking Goods          -0.084600        -0.095849                 -0.117916   \n",
       "x0_Breads                -0.051373        -0.058204                 -0.071605   \n",
       "x0_Breakfast             -0.033723        -0.038207                 -0.047004   \n",
       "x0_Canned                -0.084670        -0.095929                 -0.118015   \n",
       "x0_Dairy                  1.000000        -0.098544                 -0.121232   \n",
       "x0_Frozen Foods          -0.098544         1.000000                 -0.137352   \n",
       "x0_Fruits and Vegetables -0.121232        -0.137352                  1.000000   \n",
       "x0_Hard Drinks           -0.047330        -0.053624                 -0.065970   \n",
       "x0_Health and Hygiene    -0.075176        -0.085173                 -0.104782   \n",
       "x0_Household             -0.101965        -0.115523                 -0.142120   \n",
       "x0_Meat                  -0.067563        -0.076547                 -0.094171   \n",
       "x0_Others                -0.041947        -0.047525                 -0.058467   \n",
       "x0_Seafood               -0.025653        -0.029064                 -0.035755   \n",
       "x0_Snack Foods           -0.119386        -0.135260                 -0.166402   \n",
       "x0_Soft Drinks           -0.069220        -0.078425                 -0.096481   \n",
       "x0_Starchy Foods         -0.039205        -0.044418                 -0.054645   \n",
       "target                    0.008858        -0.009482                  0.025950   \n",
       "\n",
       "                          x0_Hard Drinks  x0_Health and Hygiene  x0_Household  \\\n",
       "x0_Baking Goods                -0.046036              -0.073120     -0.099176   \n",
       "x0_Breads                      -0.027955              -0.044402     -0.060225   \n",
       "x0_Breakfast                   -0.018351              -0.029147     -0.039533   \n",
       "x0_Canned                      -0.046074              -0.073181     -0.099258   \n",
       "x0_Dairy                       -0.047330              -0.075176     -0.101965   \n",
       "x0_Frozen Foods                -0.053624              -0.085173     -0.115523   \n",
       "x0_Fruits and Vegetables       -0.065970              -0.104782     -0.142120   \n",
       "x0_Hard Drinks                  1.000000              -0.040908     -0.055485   \n",
       "x0_Health and Hygiene          -0.040908               1.000000     -0.088129   \n",
       "x0_Household                   -0.055485              -0.088129      1.000000   \n",
       "x0_Meat                        -0.036765              -0.058396     -0.079204   \n",
       "x0_Others                      -0.022826              -0.036255     -0.049174   \n",
       "x0_Seafood                     -0.013959              -0.022172     -0.030073   \n",
       "x0_Snack Foods                 -0.064965              -0.103186     -0.139955   \n",
       "x0_Soft Drinks                 -0.037667              -0.059828     -0.081147   \n",
       "x0_Starchy Foods               -0.021334              -0.033885     -0.045960   \n",
       "target                         -0.003956              -0.025587      0.015701   \n",
       "\n",
       "                           x0_Meat  x0_Others  x0_Seafood  x0_Snack Foods  \\\n",
       "x0_Baking Goods          -0.065715  -0.040800   -0.024951       -0.116120   \n",
       "x0_Breads                -0.039906  -0.024776   -0.015152       -0.070514   \n",
       "x0_Breakfast             -0.026195  -0.016264   -0.009946       -0.046288   \n",
       "x0_Canned                -0.065770  -0.040834   -0.024972       -0.116217   \n",
       "x0_Dairy                 -0.067563  -0.041947   -0.025653       -0.119386   \n",
       "x0_Frozen Foods          -0.076547  -0.047525   -0.029064       -0.135260   \n",
       "x0_Fruits and Vegetables -0.094171  -0.058467   -0.035755       -0.166402   \n",
       "x0_Hard Drinks           -0.036765  -0.022826   -0.013959       -0.064965   \n",
       "x0_Health and Hygiene    -0.058396  -0.036255   -0.022172       -0.103186   \n",
       "x0_Household             -0.079204  -0.049174   -0.030073       -0.139955   \n",
       "x0_Meat                   1.000000  -0.032584   -0.019927       -0.092737   \n",
       "x0_Others                -0.032584   1.000000   -0.012372       -0.057576   \n",
       "x0_Seafood               -0.019927  -0.012372    1.000000       -0.035211   \n",
       "x0_Snack Foods           -0.092737  -0.057576   -0.035211        1.000000   \n",
       "x0_Soft Drinks           -0.053769  -0.033383   -0.020415       -0.095011   \n",
       "x0_Starchy Foods         -0.030454  -0.018908   -0.011563       -0.053813   \n",
       "target                   -0.002995  -0.021267    0.007380        0.022782   \n",
       "\n",
       "                          x0_Soft Drinks  x0_Starchy Foods    target  \n",
       "x0_Baking Goods                -0.067327         -0.038133 -0.038381  \n",
       "x0_Breads                      -0.040885         -0.023156  0.002332  \n",
       "x0_Breakfast                   -0.026838         -0.015201 -0.004656  \n",
       "x0_Canned                      -0.067383         -0.038165  0.007387  \n",
       "x0_Dairy                       -0.069220         -0.039205  0.008858  \n",
       "x0_Frozen Foods                -0.078425         -0.044418 -0.009482  \n",
       "x0_Fruits and Vegetables       -0.096481         -0.054645  0.025950  \n",
       "x0_Hard Drinks                 -0.037667         -0.021334 -0.003956  \n",
       "x0_Health and Hygiene          -0.059828         -0.033885 -0.025587  \n",
       "x0_Household                   -0.081147         -0.045960  0.015701  \n",
       "x0_Meat                        -0.053769         -0.030454 -0.002995  \n",
       "x0_Others                      -0.033383         -0.018908 -0.021267  \n",
       "x0_Seafood                     -0.020415         -0.011563  0.007380  \n",
       "x0_Snack Foods                 -0.095011         -0.053813  0.022782  \n",
       "x0_Soft Drinks                  1.000000         -0.031201 -0.024040  \n",
       "x0_Starchy Foods               -0.031201          1.000000  0.015039  \n",
       "target                         -0.024040          0.015039  1.000000  "
      ]
     },
     "execution_count": 348,
     "metadata": {},
     "output_type": "execute_result"
    }
   ],
   "source": [
    "# correlation with Item_Type \n",
    "res = enc.fit_transform(train[['Item_Type']]).toarray()\n",
    "new_p= pd.DataFrame(res,columns = enc.get_feature_names())\n",
    "new_p['target'] = train['Item_Outlet_Sales']\n",
    "new_p.corr()"
   ]
  },
  {
   "cell_type": "code",
   "execution_count": 349,
   "metadata": {},
   "outputs": [
    {
     "data": {
      "text/html": [
       "<div>\n",
       "<style scoped>\n",
       "    .dataframe tbody tr th:only-of-type {\n",
       "        vertical-align: middle;\n",
       "    }\n",
       "\n",
       "    .dataframe tbody tr th {\n",
       "        vertical-align: top;\n",
       "    }\n",
       "\n",
       "    .dataframe thead th {\n",
       "        text-align: right;\n",
       "    }\n",
       "</style>\n",
       "<table border=\"1\" class=\"dataframe\">\n",
       "  <thead>\n",
       "    <tr style=\"text-align: right;\">\n",
       "      <th></th>\n",
       "      <th>x0_OUT010</th>\n",
       "      <th>x0_OUT013</th>\n",
       "      <th>x0_OUT017</th>\n",
       "      <th>x0_OUT018</th>\n",
       "      <th>x0_OUT019</th>\n",
       "      <th>x0_OUT027</th>\n",
       "      <th>x0_OUT035</th>\n",
       "      <th>x0_OUT045</th>\n",
       "      <th>x0_OUT046</th>\n",
       "      <th>x0_OUT049</th>\n",
       "      <th>target</th>\n",
       "    </tr>\n",
       "  </thead>\n",
       "  <tbody>\n",
       "    <tr>\n",
       "      <th>x0_OUT010</th>\n",
       "      <td>1.000000</td>\n",
       "      <td>-0.092476</td>\n",
       "      <td>-0.092142</td>\n",
       "      <td>-0.092253</td>\n",
       "      <td>-0.067823</td>\n",
       "      <td>-0.092643</td>\n",
       "      <td>-0.092365</td>\n",
       "      <td>-0.092309</td>\n",
       "      <td>-0.092365</td>\n",
       "      <td>-0.092365</td>\n",
       "      <td>-0.284883</td>\n",
       "    </tr>\n",
       "    <tr>\n",
       "      <th>x0_OUT013</th>\n",
       "      <td>-0.092476</td>\n",
       "      <td>1.000000</td>\n",
       "      <td>-0.122333</td>\n",
       "      <td>-0.122481</td>\n",
       "      <td>-0.090046</td>\n",
       "      <td>-0.122999</td>\n",
       "      <td>-0.122629</td>\n",
       "      <td>-0.122555</td>\n",
       "      <td>-0.122629</td>\n",
       "      <td>-0.122629</td>\n",
       "      <td>0.024170</td>\n",
       "    </tr>\n",
       "    <tr>\n",
       "      <th>x0_OUT017</th>\n",
       "      <td>-0.092142</td>\n",
       "      <td>-0.122333</td>\n",
       "      <td>1.000000</td>\n",
       "      <td>-0.122038</td>\n",
       "      <td>-0.089721</td>\n",
       "      <td>-0.122554</td>\n",
       "      <td>-0.122185</td>\n",
       "      <td>-0.122112</td>\n",
       "      <td>-0.122185</td>\n",
       "      <td>-0.122185</td>\n",
       "      <td>0.032610</td>\n",
       "    </tr>\n",
       "    <tr>\n",
       "      <th>x0_OUT018</th>\n",
       "      <td>-0.092253</td>\n",
       "      <td>-0.122481</td>\n",
       "      <td>-0.122038</td>\n",
       "      <td>1.000000</td>\n",
       "      <td>-0.089829</td>\n",
       "      <td>-0.122702</td>\n",
       "      <td>-0.122333</td>\n",
       "      <td>-0.122260</td>\n",
       "      <td>-0.122333</td>\n",
       "      <td>-0.122333</td>\n",
       "      <td>-0.038059</td>\n",
       "    </tr>\n",
       "    <tr>\n",
       "      <th>x0_OUT019</th>\n",
       "      <td>-0.067823</td>\n",
       "      <td>-0.090046</td>\n",
       "      <td>-0.089721</td>\n",
       "      <td>-0.089829</td>\n",
       "      <td>1.000000</td>\n",
       "      <td>-0.090209</td>\n",
       "      <td>-0.089938</td>\n",
       "      <td>-0.089884</td>\n",
       "      <td>-0.089938</td>\n",
       "      <td>-0.089938</td>\n",
       "      <td>-0.277250</td>\n",
       "    </tr>\n",
       "    <tr>\n",
       "      <th>x0_OUT027</th>\n",
       "      <td>-0.092643</td>\n",
       "      <td>-0.122999</td>\n",
       "      <td>-0.122554</td>\n",
       "      <td>-0.122702</td>\n",
       "      <td>-0.090209</td>\n",
       "      <td>1.000000</td>\n",
       "      <td>-0.122850</td>\n",
       "      <td>-0.122776</td>\n",
       "      <td>-0.122850</td>\n",
       "      <td>-0.122850</td>\n",
       "      <td>0.311192</td>\n",
       "    </tr>\n",
       "    <tr>\n",
       "      <th>x0_OUT035</th>\n",
       "      <td>-0.092365</td>\n",
       "      <td>-0.122629</td>\n",
       "      <td>-0.122185</td>\n",
       "      <td>-0.122333</td>\n",
       "      <td>-0.089938</td>\n",
       "      <td>-0.122850</td>\n",
       "      <td>1.000000</td>\n",
       "      <td>-0.122407</td>\n",
       "      <td>-0.122481</td>\n",
       "      <td>-0.122481</td>\n",
       "      <td>0.052823</td>\n",
       "    </tr>\n",
       "    <tr>\n",
       "      <th>x0_OUT045</th>\n",
       "      <td>-0.092309</td>\n",
       "      <td>-0.122555</td>\n",
       "      <td>-0.122112</td>\n",
       "      <td>-0.122260</td>\n",
       "      <td>-0.089884</td>\n",
       "      <td>-0.122776</td>\n",
       "      <td>-0.122407</td>\n",
       "      <td>1.000000</td>\n",
       "      <td>-0.122407</td>\n",
       "      <td>-0.122407</td>\n",
       "      <td>0.002274</td>\n",
       "    </tr>\n",
       "    <tr>\n",
       "      <th>x0_OUT046</th>\n",
       "      <td>-0.092365</td>\n",
       "      <td>-0.122629</td>\n",
       "      <td>-0.122185</td>\n",
       "      <td>-0.122333</td>\n",
       "      <td>-0.089938</td>\n",
       "      <td>-0.122850</td>\n",
       "      <td>-0.122481</td>\n",
       "      <td>-0.122407</td>\n",
       "      <td>1.000000</td>\n",
       "      <td>-0.122481</td>\n",
       "      <td>0.019803</td>\n",
       "    </tr>\n",
       "    <tr>\n",
       "      <th>x0_OUT049</th>\n",
       "      <td>-0.092365</td>\n",
       "      <td>-0.122629</td>\n",
       "      <td>-0.122185</td>\n",
       "      <td>-0.122333</td>\n",
       "      <td>-0.089938</td>\n",
       "      <td>-0.122850</td>\n",
       "      <td>-0.122481</td>\n",
       "      <td>-0.122407</td>\n",
       "      <td>-0.122481</td>\n",
       "      <td>1.000000</td>\n",
       "      <td>0.034264</td>\n",
       "    </tr>\n",
       "    <tr>\n",
       "      <th>target</th>\n",
       "      <td>-0.284883</td>\n",
       "      <td>0.024170</td>\n",
       "      <td>0.032610</td>\n",
       "      <td>-0.038059</td>\n",
       "      <td>-0.277250</td>\n",
       "      <td>0.311192</td>\n",
       "      <td>0.052823</td>\n",
       "      <td>0.002274</td>\n",
       "      <td>0.019803</td>\n",
       "      <td>0.034264</td>\n",
       "      <td>1.000000</td>\n",
       "    </tr>\n",
       "  </tbody>\n",
       "</table>\n",
       "</div>"
      ],
      "text/plain": [
       "           x0_OUT010  x0_OUT013  x0_OUT017  x0_OUT018  x0_OUT019  x0_OUT027  \\\n",
       "x0_OUT010   1.000000  -0.092476  -0.092142  -0.092253  -0.067823  -0.092643   \n",
       "x0_OUT013  -0.092476   1.000000  -0.122333  -0.122481  -0.090046  -0.122999   \n",
       "x0_OUT017  -0.092142  -0.122333   1.000000  -0.122038  -0.089721  -0.122554   \n",
       "x0_OUT018  -0.092253  -0.122481  -0.122038   1.000000  -0.089829  -0.122702   \n",
       "x0_OUT019  -0.067823  -0.090046  -0.089721  -0.089829   1.000000  -0.090209   \n",
       "x0_OUT027  -0.092643  -0.122999  -0.122554  -0.122702  -0.090209   1.000000   \n",
       "x0_OUT035  -0.092365  -0.122629  -0.122185  -0.122333  -0.089938  -0.122850   \n",
       "x0_OUT045  -0.092309  -0.122555  -0.122112  -0.122260  -0.089884  -0.122776   \n",
       "x0_OUT046  -0.092365  -0.122629  -0.122185  -0.122333  -0.089938  -0.122850   \n",
       "x0_OUT049  -0.092365  -0.122629  -0.122185  -0.122333  -0.089938  -0.122850   \n",
       "target     -0.284883   0.024170   0.032610  -0.038059  -0.277250   0.311192   \n",
       "\n",
       "           x0_OUT035  x0_OUT045  x0_OUT046  x0_OUT049    target  \n",
       "x0_OUT010  -0.092365  -0.092309  -0.092365  -0.092365 -0.284883  \n",
       "x0_OUT013  -0.122629  -0.122555  -0.122629  -0.122629  0.024170  \n",
       "x0_OUT017  -0.122185  -0.122112  -0.122185  -0.122185  0.032610  \n",
       "x0_OUT018  -0.122333  -0.122260  -0.122333  -0.122333 -0.038059  \n",
       "x0_OUT019  -0.089938  -0.089884  -0.089938  -0.089938 -0.277250  \n",
       "x0_OUT027  -0.122850  -0.122776  -0.122850  -0.122850  0.311192  \n",
       "x0_OUT035   1.000000  -0.122407  -0.122481  -0.122481  0.052823  \n",
       "x0_OUT045  -0.122407   1.000000  -0.122407  -0.122407  0.002274  \n",
       "x0_OUT046  -0.122481  -0.122407   1.000000  -0.122481  0.019803  \n",
       "x0_OUT049  -0.122481  -0.122407  -0.122481   1.000000  0.034264  \n",
       "target      0.052823   0.002274   0.019803   0.034264  1.000000  "
      ]
     },
     "execution_count": 349,
     "metadata": {},
     "output_type": "execute_result"
    }
   ],
   "source": [
    "# correlation with Outlet_Identifier \n",
    "res = enc.fit_transform(train[['Outlet_Identifier']]).toarray()\n",
    "new_p= pd.DataFrame(res,columns = enc.get_feature_names())\n",
    "new_p['target'] = train['Item_Outlet_Sales']\n",
    "new_p.corr()"
   ]
  },
  {
   "cell_type": "code",
   "execution_count": 350,
   "metadata": {},
   "outputs": [
    {
     "data": {
      "text/html": [
       "<div>\n",
       "<style scoped>\n",
       "    .dataframe tbody tr th:only-of-type {\n",
       "        vertical-align: middle;\n",
       "    }\n",
       "\n",
       "    .dataframe tbody tr th {\n",
       "        vertical-align: top;\n",
       "    }\n",
       "\n",
       "    .dataframe thead th {\n",
       "        text-align: right;\n",
       "    }\n",
       "</style>\n",
       "<table border=\"1\" class=\"dataframe\">\n",
       "  <thead>\n",
       "    <tr style=\"text-align: right;\">\n",
       "      <th></th>\n",
       "      <th>x0_Tier 1</th>\n",
       "      <th>x0_Tier 2</th>\n",
       "      <th>x0_Tier 3</th>\n",
       "      <th>target</th>\n",
       "    </tr>\n",
       "  </thead>\n",
       "  <tbody>\n",
       "    <tr>\n",
       "      <th>x0_Tier 1</th>\n",
       "      <td>1.000000</td>\n",
       "      <td>-0.434653</td>\n",
       "      <td>-0.502066</td>\n",
       "      <td>-0.111287</td>\n",
       "    </tr>\n",
       "    <tr>\n",
       "      <th>x0_Tier 2</th>\n",
       "      <td>-0.434653</td>\n",
       "      <td>1.000000</td>\n",
       "      <td>-0.560639</td>\n",
       "      <td>0.058261</td>\n",
       "    </tr>\n",
       "    <tr>\n",
       "      <th>x0_Tier 3</th>\n",
       "      <td>-0.502066</td>\n",
       "      <td>-0.560639</td>\n",
       "      <td>1.000000</td>\n",
       "      <td>0.046376</td>\n",
       "    </tr>\n",
       "    <tr>\n",
       "      <th>target</th>\n",
       "      <td>-0.111287</td>\n",
       "      <td>0.058261</td>\n",
       "      <td>0.046376</td>\n",
       "      <td>1.000000</td>\n",
       "    </tr>\n",
       "  </tbody>\n",
       "</table>\n",
       "</div>"
      ],
      "text/plain": [
       "           x0_Tier 1  x0_Tier 2  x0_Tier 3    target\n",
       "x0_Tier 1   1.000000  -0.434653  -0.502066 -0.111287\n",
       "x0_Tier 2  -0.434653   1.000000  -0.560639  0.058261\n",
       "x0_Tier 3  -0.502066  -0.560639   1.000000  0.046376\n",
       "target     -0.111287   0.058261   0.046376  1.000000"
      ]
     },
     "execution_count": 350,
     "metadata": {},
     "output_type": "execute_result"
    }
   ],
   "source": [
    "# correlation with Outlet_Location_Type \n",
    "res = enc.fit_transform(train[['Outlet_Location_Type']]).toarray()\n",
    "new_p= pd.DataFrame(res,columns = enc.get_feature_names())\n",
    "new_p['target'] = train['Item_Outlet_Sales']\n",
    "new_p.corr()"
   ]
  },
  {
   "cell_type": "code",
   "execution_count": 351,
   "metadata": {},
   "outputs": [
    {
     "data": {
      "text/html": [
       "<div>\n",
       "<style scoped>\n",
       "    .dataframe tbody tr th:only-of-type {\n",
       "        vertical-align: middle;\n",
       "    }\n",
       "\n",
       "    .dataframe tbody tr th {\n",
       "        vertical-align: top;\n",
       "    }\n",
       "\n",
       "    .dataframe thead th {\n",
       "        text-align: right;\n",
       "    }\n",
       "</style>\n",
       "<table border=\"1\" class=\"dataframe\">\n",
       "  <thead>\n",
       "    <tr style=\"text-align: right;\">\n",
       "      <th></th>\n",
       "      <th>Item_Weight</th>\n",
       "      <th>Item_Visibility</th>\n",
       "      <th>Item_MRP</th>\n",
       "      <th>Outlet_Establishment_Year</th>\n",
       "      <th>Item_Outlet_Sales</th>\n",
       "    </tr>\n",
       "  </thead>\n",
       "  <tbody>\n",
       "    <tr>\n",
       "      <th>Item_Weight</th>\n",
       "      <td>1.000000</td>\n",
       "      <td>-0.011620</td>\n",
       "      <td>0.025821</td>\n",
       "      <td>-0.008376</td>\n",
       "      <td>0.012088</td>\n",
       "    </tr>\n",
       "    <tr>\n",
       "      <th>Item_Visibility</th>\n",
       "      <td>-0.011620</td>\n",
       "      <td>1.000000</td>\n",
       "      <td>-0.001315</td>\n",
       "      <td>-0.074834</td>\n",
       "      <td>-0.128625</td>\n",
       "    </tr>\n",
       "    <tr>\n",
       "      <th>Item_MRP</th>\n",
       "      <td>0.025821</td>\n",
       "      <td>-0.001315</td>\n",
       "      <td>1.000000</td>\n",
       "      <td>0.005020</td>\n",
       "      <td>0.567574</td>\n",
       "    </tr>\n",
       "    <tr>\n",
       "      <th>Outlet_Establishment_Year</th>\n",
       "      <td>-0.008376</td>\n",
       "      <td>-0.074834</td>\n",
       "      <td>0.005020</td>\n",
       "      <td>1.000000</td>\n",
       "      <td>-0.049135</td>\n",
       "    </tr>\n",
       "    <tr>\n",
       "      <th>Item_Outlet_Sales</th>\n",
       "      <td>0.012088</td>\n",
       "      <td>-0.128625</td>\n",
       "      <td>0.567574</td>\n",
       "      <td>-0.049135</td>\n",
       "      <td>1.000000</td>\n",
       "    </tr>\n",
       "  </tbody>\n",
       "</table>\n",
       "</div>"
      ],
      "text/plain": [
       "                           Item_Weight  Item_Visibility  Item_MRP  \\\n",
       "Item_Weight                   1.000000        -0.011620  0.025821   \n",
       "Item_Visibility              -0.011620         1.000000 -0.001315   \n",
       "Item_MRP                      0.025821        -0.001315  1.000000   \n",
       "Outlet_Establishment_Year    -0.008376        -0.074834  0.005020   \n",
       "Item_Outlet_Sales             0.012088        -0.128625  0.567574   \n",
       "\n",
       "                           Outlet_Establishment_Year  Item_Outlet_Sales  \n",
       "Item_Weight                                -0.008376           0.012088  \n",
       "Item_Visibility                            -0.074834          -0.128625  \n",
       "Item_MRP                                    0.005020           0.567574  \n",
       "Outlet_Establishment_Year                   1.000000          -0.049135  \n",
       "Item_Outlet_Sales                          -0.049135           1.000000  "
      ]
     },
     "execution_count": 351,
     "metadata": {},
     "output_type": "execute_result"
    }
   ],
   "source": [
    "# correlation with numerical veriables.\n",
    "train.corr()"
   ]
  },
  {
   "cell_type": "code",
   "execution_count": 356,
   "metadata": {},
   "outputs": [
    {
     "data": {
      "text/html": [
       "<div>\n",
       "<style scoped>\n",
       "    .dataframe tbody tr th:only-of-type {\n",
       "        vertical-align: middle;\n",
       "    }\n",
       "\n",
       "    .dataframe tbody tr th {\n",
       "        vertical-align: top;\n",
       "    }\n",
       "\n",
       "    .dataframe thead th {\n",
       "        text-align: right;\n",
       "    }\n",
       "</style>\n",
       "<table border=\"1\" class=\"dataframe\">\n",
       "  <thead>\n",
       "    <tr style=\"text-align: right;\">\n",
       "      <th></th>\n",
       "      <th>x0_Grocery Store</th>\n",
       "      <th>x0_Supermarket Type1</th>\n",
       "      <th>x0_Supermarket Type2</th>\n",
       "      <th>x0_Supermarket Type3</th>\n",
       "      <th>x0_OUT010</th>\n",
       "      <th>x0_OUT013</th>\n",
       "      <th>x0_OUT017</th>\n",
       "      <th>x0_OUT018</th>\n",
       "      <th>x0_OUT019</th>\n",
       "      <th>x0_OUT027</th>\n",
       "      <th>x0_OUT035</th>\n",
       "      <th>x0_OUT045</th>\n",
       "      <th>x0_OUT046</th>\n",
       "      <th>x0_OUT049</th>\n",
       "      <th>Item_MRP</th>\n",
       "    </tr>\n",
       "  </thead>\n",
       "  <tbody>\n",
       "    <tr>\n",
       "      <th>0</th>\n",
       "      <td>0.0</td>\n",
       "      <td>1.0</td>\n",
       "      <td>0.0</td>\n",
       "      <td>0.0</td>\n",
       "      <td>0.0</td>\n",
       "      <td>0.0</td>\n",
       "      <td>0.0</td>\n",
       "      <td>0.0</td>\n",
       "      <td>0.0</td>\n",
       "      <td>0.0</td>\n",
       "      <td>0.0</td>\n",
       "      <td>0.0</td>\n",
       "      <td>0.0</td>\n",
       "      <td>1.0</td>\n",
       "      <td>249.8092</td>\n",
       "    </tr>\n",
       "    <tr>\n",
       "      <th>1</th>\n",
       "      <td>0.0</td>\n",
       "      <td>0.0</td>\n",
       "      <td>1.0</td>\n",
       "      <td>0.0</td>\n",
       "      <td>0.0</td>\n",
       "      <td>0.0</td>\n",
       "      <td>0.0</td>\n",
       "      <td>1.0</td>\n",
       "      <td>0.0</td>\n",
       "      <td>0.0</td>\n",
       "      <td>0.0</td>\n",
       "      <td>0.0</td>\n",
       "      <td>0.0</td>\n",
       "      <td>0.0</td>\n",
       "      <td>48.2692</td>\n",
       "    </tr>\n",
       "    <tr>\n",
       "      <th>2</th>\n",
       "      <td>0.0</td>\n",
       "      <td>1.0</td>\n",
       "      <td>0.0</td>\n",
       "      <td>0.0</td>\n",
       "      <td>0.0</td>\n",
       "      <td>0.0</td>\n",
       "      <td>0.0</td>\n",
       "      <td>0.0</td>\n",
       "      <td>0.0</td>\n",
       "      <td>0.0</td>\n",
       "      <td>0.0</td>\n",
       "      <td>0.0</td>\n",
       "      <td>0.0</td>\n",
       "      <td>1.0</td>\n",
       "      <td>141.6180</td>\n",
       "    </tr>\n",
       "    <tr>\n",
       "      <th>3</th>\n",
       "      <td>1.0</td>\n",
       "      <td>0.0</td>\n",
       "      <td>0.0</td>\n",
       "      <td>0.0</td>\n",
       "      <td>1.0</td>\n",
       "      <td>0.0</td>\n",
       "      <td>0.0</td>\n",
       "      <td>0.0</td>\n",
       "      <td>0.0</td>\n",
       "      <td>0.0</td>\n",
       "      <td>0.0</td>\n",
       "      <td>0.0</td>\n",
       "      <td>0.0</td>\n",
       "      <td>0.0</td>\n",
       "      <td>182.0950</td>\n",
       "    </tr>\n",
       "    <tr>\n",
       "      <th>4</th>\n",
       "      <td>0.0</td>\n",
       "      <td>1.0</td>\n",
       "      <td>0.0</td>\n",
       "      <td>0.0</td>\n",
       "      <td>0.0</td>\n",
       "      <td>1.0</td>\n",
       "      <td>0.0</td>\n",
       "      <td>0.0</td>\n",
       "      <td>0.0</td>\n",
       "      <td>0.0</td>\n",
       "      <td>0.0</td>\n",
       "      <td>0.0</td>\n",
       "      <td>0.0</td>\n",
       "      <td>0.0</td>\n",
       "      <td>53.8614</td>\n",
       "    </tr>\n",
       "  </tbody>\n",
       "</table>\n",
       "</div>"
      ],
      "text/plain": [
       "   x0_Grocery Store  x0_Supermarket Type1  x0_Supermarket Type2  \\\n",
       "0               0.0                   1.0                   0.0   \n",
       "1               0.0                   0.0                   1.0   \n",
       "2               0.0                   1.0                   0.0   \n",
       "3               1.0                   0.0                   0.0   \n",
       "4               0.0                   1.0                   0.0   \n",
       "\n",
       "   x0_Supermarket Type3  x0_OUT010  x0_OUT013  x0_OUT017  x0_OUT018  \\\n",
       "0                   0.0        0.0        0.0        0.0        0.0   \n",
       "1                   0.0        0.0        0.0        0.0        1.0   \n",
       "2                   0.0        0.0        0.0        0.0        0.0   \n",
       "3                   0.0        1.0        0.0        0.0        0.0   \n",
       "4                   0.0        0.0        1.0        0.0        0.0   \n",
       "\n",
       "   x0_OUT019  x0_OUT027  x0_OUT035  x0_OUT045  x0_OUT046  x0_OUT049  Item_MRP  \n",
       "0        0.0        0.0        0.0        0.0        0.0        1.0  249.8092  \n",
       "1        0.0        0.0        0.0        0.0        0.0        0.0   48.2692  \n",
       "2        0.0        0.0        0.0        0.0        0.0        1.0  141.6180  \n",
       "3        0.0        0.0        0.0        0.0        0.0        0.0  182.0950  \n",
       "4        0.0        0.0        0.0        0.0        0.0        0.0   53.8614  "
      ]
     },
     "execution_count": 356,
     "metadata": {},
     "output_type": "execute_result"
    }
   ],
   "source": [
    "# train model using fetaures which have high correlation(outlet_identifier, outlet_type,item_MRP)\n",
    "res = enc.fit_transform(train[['Outlet_Type']]).toarray()\n",
    "new_t= pd.DataFrame(res,columns = enc.get_feature_names())\n",
    "res = enc.fit_transform(train[['Outlet_Identifier']]).toarray()\n",
    "new_t= pd.concat([new_t,pd.DataFrame(res,columns = enc.get_feature_names())],axis=1)\n",
    "new_t['Item_MRP'] = train['Item_MRP']\n",
    "target = train['Item_Outlet_Sales']\n",
    "new_t.head()"
   ]
  },
  {
   "cell_type": "code",
   "execution_count": 355,
   "metadata": {},
   "outputs": [],
   "source": [
    "pipeline = make_pipeline(RandomForestRegressor())\n",
    "pipeline.get_params()\n",
    "hyperparameters = {\n",
    "    'randomforestregressor__max_depth': [4,5,6,8,10],\n",
    "    'randomforestregressor__n_estimators':[50,100,200,500,1000]\n",
    "}\n",
    "clf = GridSearchCV(pipeline, hyperparameters, cv=6)"
   ]
  },
  {
   "cell_type": "code",
   "execution_count": 357,
   "metadata": {},
   "outputs": [
    {
     "data": {
      "text/plain": [
       "GridSearchCV(cv=6, error_score='raise-deprecating',\n",
       "       estimator=Pipeline(memory=None,\n",
       "     steps=[('randomforestregressor', RandomForestRegressor(bootstrap=True, criterion='mse', max_depth=None,\n",
       "           max_features='auto', max_leaf_nodes=None,\n",
       "           min_impurity_decrease=0.0, min_impurity_split=None,\n",
       "           min_samples_leaf=1, min_samples_split=2,\n",
       "           min_weight_fraction_leaf=0.0, n_estimators='warn', n_jobs=None,\n",
       "           oob_score=False, random_state=None, verbose=0, warm_start=False))]),\n",
       "       fit_params=None, iid='warn', n_jobs=None,\n",
       "       param_grid={'randomforestregressor__max_depth': [4, 5, 6, 8, 10], 'randomforestregressor__n_estimators': [50, 100, 200, 500, 1000]},\n",
       "       pre_dispatch='2*n_jobs', refit=True, return_train_score='warn',\n",
       "       scoring=None, verbose=0)"
      ]
     },
     "execution_count": 357,
     "metadata": {},
     "output_type": "execute_result"
    }
   ],
   "source": [
    "clf.fit(new_t,target)"
   ]
  },
  {
   "cell_type": "code",
   "execution_count": 358,
   "metadata": {},
   "outputs": [
    {
     "data": {
      "text/plain": [
       "{'randomforestregressor__max_depth': 5,\n",
       " 'randomforestregressor__n_estimators': 200}"
      ]
     },
     "execution_count": 358,
     "metadata": {},
     "output_type": "execute_result"
    }
   ],
   "source": [
    "clf.best_params_"
   ]
  },
  {
   "cell_type": "code",
   "execution_count": 359,
   "metadata": {},
   "outputs": [
    {
     "data": {
      "text/plain": [
       "True"
      ]
     },
     "execution_count": 359,
     "metadata": {},
     "output_type": "execute_result"
    }
   ],
   "source": [
    "clf.refit"
   ]
  },
  {
   "cell_type": "code",
   "execution_count": 360,
   "metadata": {},
   "outputs": [
    {
     "name": "stdout",
     "output_type": "stream",
     "text": [
      "1067.775899896183\n"
     ]
    }
   ],
   "source": [
    "pval = clf.predict(new_t)\n",
    "print(np.sqrt(mean_squared_error(target,pval)))"
   ]
  },
  {
   "cell_type": "code",
   "execution_count": 362,
   "metadata": {},
   "outputs": [
    {
     "data": {
      "text/plain": [
       "{'memory': None,\n",
       " 'steps': [('svr', SVR(C=1.0, cache_size=200, coef0=0.0, degree=3, epsilon=0.1,\n",
       "     gamma='auto_deprecated', kernel='rbf', max_iter=-1, shrinking=True,\n",
       "     tol=0.001, verbose=False))],\n",
       " 'svr': SVR(C=1.0, cache_size=200, coef0=0.0, degree=3, epsilon=0.1,\n",
       "   gamma='auto_deprecated', kernel='rbf', max_iter=-1, shrinking=True,\n",
       "   tol=0.001, verbose=False),\n",
       " 'svr__C': 1.0,\n",
       " 'svr__cache_size': 200,\n",
       " 'svr__coef0': 0.0,\n",
       " 'svr__degree': 3,\n",
       " 'svr__epsilon': 0.1,\n",
       " 'svr__gamma': 'auto_deprecated',\n",
       " 'svr__kernel': 'rbf',\n",
       " 'svr__max_iter': -1,\n",
       " 'svr__shrinking': True,\n",
       " 'svr__tol': 0.001,\n",
       " 'svr__verbose': False}"
      ]
     },
     "execution_count": 362,
     "metadata": {},
     "output_type": "execute_result"
    }
   ],
   "source": [
    "# use svm for regression\n",
    "from sklearn.svm import SVR\n",
    "pipeline = make_pipeline(SVR())\n",
    "pipeline.get_params()"
   ]
  },
  {
   "cell_type": "code",
   "execution_count": 370,
   "metadata": {},
   "outputs": [],
   "source": [
    "hyperparameters = {\n",
    "    'svr__C': [0.01,0.1,0.5,1],\n",
    "    'svr__kernel':['linear','poly','rbf']\n",
    "}\n",
    "clf = GridSearchCV(pipeline, hyperparameters, cv=5)"
   ]
  },
  {
   "cell_type": "code",
   "execution_count": null,
   "metadata": {},
   "outputs": [
    {
     "name": "stderr",
     "output_type": "stream",
     "text": [
      "/home/doodlews108/anaconda3/lib/python3.7/site-packages/sklearn/svm/base.py:196: FutureWarning: The default value of gamma will change from 'auto' to 'scale' in version 0.22 to account better for unscaled features. Set gamma explicitly to 'auto' or 'scale' to avoid this warning.\n",
      "  \"avoid this warning.\", FutureWarning)\n",
      "/home/doodlews108/anaconda3/lib/python3.7/site-packages/sklearn/svm/base.py:196: FutureWarning: The default value of gamma will change from 'auto' to 'scale' in version 0.22 to account better for unscaled features. Set gamma explicitly to 'auto' or 'scale' to avoid this warning.\n",
      "  \"avoid this warning.\", FutureWarning)\n",
      "/home/doodlews108/anaconda3/lib/python3.7/site-packages/sklearn/svm/base.py:196: FutureWarning: The default value of gamma will change from 'auto' to 'scale' in version 0.22 to account better for unscaled features. Set gamma explicitly to 'auto' or 'scale' to avoid this warning.\n",
      "  \"avoid this warning.\", FutureWarning)\n",
      "/home/doodlews108/anaconda3/lib/python3.7/site-packages/sklearn/svm/base.py:196: FutureWarning: The default value of gamma will change from 'auto' to 'scale' in version 0.22 to account better for unscaled features. Set gamma explicitly to 'auto' or 'scale' to avoid this warning.\n",
      "  \"avoid this warning.\", FutureWarning)\n",
      "/home/doodlews108/anaconda3/lib/python3.7/site-packages/sklearn/svm/base.py:196: FutureWarning: The default value of gamma will change from 'auto' to 'scale' in version 0.22 to account better for unscaled features. Set gamma explicitly to 'auto' or 'scale' to avoid this warning.\n",
      "  \"avoid this warning.\", FutureWarning)\n",
      "/home/doodlews108/anaconda3/lib/python3.7/site-packages/sklearn/svm/base.py:196: FutureWarning: The default value of gamma will change from 'auto' to 'scale' in version 0.22 to account better for unscaled features. Set gamma explicitly to 'auto' or 'scale' to avoid this warning.\n",
      "  \"avoid this warning.\", FutureWarning)\n",
      "/home/doodlews108/anaconda3/lib/python3.7/site-packages/sklearn/svm/base.py:196: FutureWarning: The default value of gamma will change from 'auto' to 'scale' in version 0.22 to account better for unscaled features. Set gamma explicitly to 'auto' or 'scale' to avoid this warning.\n",
      "  \"avoid this warning.\", FutureWarning)\n",
      "/home/doodlews108/anaconda3/lib/python3.7/site-packages/sklearn/svm/base.py:196: FutureWarning: The default value of gamma will change from 'auto' to 'scale' in version 0.22 to account better for unscaled features. Set gamma explicitly to 'auto' or 'scale' to avoid this warning.\n",
      "  \"avoid this warning.\", FutureWarning)\n",
      "/home/doodlews108/anaconda3/lib/python3.7/site-packages/sklearn/svm/base.py:196: FutureWarning: The default value of gamma will change from 'auto' to 'scale' in version 0.22 to account better for unscaled features. Set gamma explicitly to 'auto' or 'scale' to avoid this warning.\n",
      "  \"avoid this warning.\", FutureWarning)\n",
      "/home/doodlews108/anaconda3/lib/python3.7/site-packages/sklearn/svm/base.py:196: FutureWarning: The default value of gamma will change from 'auto' to 'scale' in version 0.22 to account better for unscaled features. Set gamma explicitly to 'auto' or 'scale' to avoid this warning.\n",
      "  \"avoid this warning.\", FutureWarning)\n",
      "/home/doodlews108/anaconda3/lib/python3.7/site-packages/sklearn/svm/base.py:196: FutureWarning: The default value of gamma will change from 'auto' to 'scale' in version 0.22 to account better for unscaled features. Set gamma explicitly to 'auto' or 'scale' to avoid this warning.\n",
      "  \"avoid this warning.\", FutureWarning)\n",
      "/home/doodlews108/anaconda3/lib/python3.7/site-packages/sklearn/svm/base.py:196: FutureWarning: The default value of gamma will change from 'auto' to 'scale' in version 0.22 to account better for unscaled features. Set gamma explicitly to 'auto' or 'scale' to avoid this warning.\n",
      "  \"avoid this warning.\", FutureWarning)\n",
      "/home/doodlews108/anaconda3/lib/python3.7/site-packages/sklearn/svm/base.py:196: FutureWarning: The default value of gamma will change from 'auto' to 'scale' in version 0.22 to account better for unscaled features. Set gamma explicitly to 'auto' or 'scale' to avoid this warning.\n",
      "  \"avoid this warning.\", FutureWarning)\n",
      "/home/doodlews108/anaconda3/lib/python3.7/site-packages/sklearn/svm/base.py:196: FutureWarning: The default value of gamma will change from 'auto' to 'scale' in version 0.22 to account better for unscaled features. Set gamma explicitly to 'auto' or 'scale' to avoid this warning.\n",
      "  \"avoid this warning.\", FutureWarning)\n",
      "/home/doodlews108/anaconda3/lib/python3.7/site-packages/sklearn/svm/base.py:196: FutureWarning: The default value of gamma will change from 'auto' to 'scale' in version 0.22 to account better for unscaled features. Set gamma explicitly to 'auto' or 'scale' to avoid this warning.\n",
      "  \"avoid this warning.\", FutureWarning)\n",
      "/home/doodlews108/anaconda3/lib/python3.7/site-packages/sklearn/svm/base.py:196: FutureWarning: The default value of gamma will change from 'auto' to 'scale' in version 0.22 to account better for unscaled features. Set gamma explicitly to 'auto' or 'scale' to avoid this warning.\n",
      "  \"avoid this warning.\", FutureWarning)\n",
      "/home/doodlews108/anaconda3/lib/python3.7/site-packages/sklearn/svm/base.py:196: FutureWarning: The default value of gamma will change from 'auto' to 'scale' in version 0.22 to account better for unscaled features. Set gamma explicitly to 'auto' or 'scale' to avoid this warning.\n",
      "  \"avoid this warning.\", FutureWarning)\n",
      "/home/doodlews108/anaconda3/lib/python3.7/site-packages/sklearn/svm/base.py:196: FutureWarning: The default value of gamma will change from 'auto' to 'scale' in version 0.22 to account better for unscaled features. Set gamma explicitly to 'auto' or 'scale' to avoid this warning.\n",
      "  \"avoid this warning.\", FutureWarning)\n",
      "/home/doodlews108/anaconda3/lib/python3.7/site-packages/sklearn/svm/base.py:196: FutureWarning: The default value of gamma will change from 'auto' to 'scale' in version 0.22 to account better for unscaled features. Set gamma explicitly to 'auto' or 'scale' to avoid this warning.\n",
      "  \"avoid this warning.\", FutureWarning)\n",
      "/home/doodlews108/anaconda3/lib/python3.7/site-packages/sklearn/svm/base.py:196: FutureWarning: The default value of gamma will change from 'auto' to 'scale' in version 0.22 to account better for unscaled features. Set gamma explicitly to 'auto' or 'scale' to avoid this warning.\n",
      "  \"avoid this warning.\", FutureWarning)\n",
      "/home/doodlews108/anaconda3/lib/python3.7/site-packages/sklearn/svm/base.py:196: FutureWarning: The default value of gamma will change from 'auto' to 'scale' in version 0.22 to account better for unscaled features. Set gamma explicitly to 'auto' or 'scale' to avoid this warning.\n",
      "  \"avoid this warning.\", FutureWarning)\n"
     ]
    }
   ],
   "source": [
    "clf.fit(new_train,target)"
   ]
  },
  {
   "cell_type": "code",
   "execution_count": 366,
   "metadata": {},
   "outputs": [
    {
     "data": {
      "text/plain": [
       "{'svr__C': 0.01, 'svr__kernel': 'poly'}"
      ]
     },
     "execution_count": 366,
     "metadata": {},
     "output_type": "execute_result"
    }
   ],
   "source": [
    "clf.best_params_"
   ]
  },
  {
   "cell_type": "code",
   "execution_count": 367,
   "metadata": {},
   "outputs": [
    {
     "data": {
      "text/plain": [
       "True"
      ]
     },
     "execution_count": 367,
     "metadata": {},
     "output_type": "execute_result"
    }
   ],
   "source": [
    "clf.refit"
   ]
  },
  {
   "cell_type": "code",
   "execution_count": 369,
   "metadata": {},
   "outputs": [
    {
     "name": "stdout",
     "output_type": "stream",
     "text": [
      "1105.336054906599\n"
     ]
    }
   ],
   "source": [
    "pval = clf.predict(new_t)\n",
    "print(np.sqrt(mean_squared_error(target,pval)))"
   ]
  },
  {
   "cell_type": "code",
   "execution_count": null,
   "metadata": {},
   "outputs": [],
   "source": []
  }
 ],
 "metadata": {
  "kernelspec": {
   "display_name": "Python 3",
   "language": "python",
   "name": "python3"
  },
  "language_info": {
   "codemirror_mode": {
    "name": "ipython",
    "version": 3
   },
   "file_extension": ".py",
   "mimetype": "text/x-python",
   "name": "python",
   "nbconvert_exporter": "python",
   "pygments_lexer": "ipython3",
   "version": "3.7.3"
  }
 },
 "nbformat": 4,
 "nbformat_minor": 4
}
